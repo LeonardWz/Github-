{
 "cells": [
  {
   "cell_type": "markdown",
   "metadata": {},
   "source": [
    "## 安然数据\n",
    "首先确定目的是为了进行数据分析，因此需要从数据分析的过程去看看怎么样使用 R 来进行相关过程。本次将以安然的部分数据来进行分析，重点将以 EDA 的角度来进行：\n",
    "\n",
    "1. 读取数据\n",
    "2. 数据清理\n",
    "3. **探索分析**\n",
    "    * 单变量分析\n",
    "    * 双变量分析\n",
    "    * 多变量分析\n",
    "4. 建模"
   ]
  },
  {
   "cell_type": "code",
   "execution_count": 14,
   "metadata": {},
   "outputs": [],
   "source": [
    "IRkernel::installspec()"
   ]
  },
  {
   "cell_type": "code",
   "execution_count": 29,
   "metadata": {},
   "outputs": [
    {
     "name": "stderr",
     "output_type": "stream",
     "text": [
      "Warning message in install.packages(\"digest\", \"~/anaconda3/envs//R/lib/\"):\n",
      "“installation of package ‘digest’ had non-zero exit status”"
     ]
    }
   ],
   "source": [
    "install.packages(\"digest\",\"~/anaconda3/envs//R/lib/\")"
   ]
  },
  {
   "cell_type": "code",
   "execution_count": 30,
   "metadata": {
    "scrolled": true
   },
   "outputs": [
    {
     "name": "stderr",
     "output_type": "stream",
     "text": [
      "also installing the dependencies ‘zip’, ‘SparseM’, ‘MatrixModels’, ‘openxlsx’, ‘minqa’, ‘nloptr’, ‘RcppEigen’, ‘carData’, ‘pbkrtest’, ‘quantreg’, ‘maptools’, ‘rio’, ‘lme4’, ‘lmtest’, ‘car’, ‘sp’, ‘vcd’, ‘e1071’, ‘laeken’\n",
      "\n"
     ]
    }
   ],
   "source": [
    "install.packages('VIM')"
   ]
  },
  {
   "cell_type": "code",
   "execution_count": 27,
   "metadata": {
    "scrolled": true
   },
   "outputs": [
    {
     "name": "stderr",
     "output_type": "stream",
     "text": [
      "Warning message in install.packages(\"VIM\", \"~/anaconda3/lib/R/library/\"):\n",
      "“installation of package ‘VIM’ had non-zero exit status”"
     ]
    }
   ],
   "source": [
    "install.packages(\"VIM\", \"~/anaconda3/lib/R/library/\")"
   ]
  },
  {
   "cell_type": "code",
   "execution_count": null,
   "metadata": {
    "scrolled": true
   },
   "outputs": [],
   "source": [
    "library(ggplot2)\n",
    "library(dplyr)"
   ]
  },
  {
   "cell_type": "markdown",
   "metadata": {},
   "source": [
    "### 读取数据\n",
    "R 同样可以读取多种类型的数据文件，例如Excel、XML、SPSS、SAS 和 MATLAB，剪贴板，甚至是网络数据。常用的函数中需要注意，`read.csv()` 和 `read.csv2()` 的差异——后者默认是使用`;` 作为分隔符，`,` 作为千分位的 CSV 文件类型。对于其他异常数据作为缺失值，可以通过 `na.strings` 参数进行调整——`na.strings=c(\"NULL\", \"#N/A\", \"#DIV/0\")`。\n",
    "\n",
    "<font size=1 color=\"green\">补充信息：\n",
    "    <ol>\n",
    "        <li>如果需要保存相应的数据，那么可以使用 <code>write.table</code> 等函数</li>\n",
    "        <li>此外如果需要<b>交互</b>，可以使用 <code>readline()</code></li>\n",
    "        <li>下载数据，可以使用 <code>download.file()</code> 或者 <code>RCurl</code>包获取 HTML 或 XML 数据，而 <code>XML</code> 包中的相关函数可以进行页面解析\n",
    "    </ol>\n",
    "</font>"
   ]
  },
  {
   "cell_type": "code",
   "execution_count": 1,
   "metadata": {},
   "outputs": [],
   "source": [
    "df <- read.csv(\"./data/enron.csv\")"
   ]
  },
  {
   "cell_type": "markdown",
   "metadata": {},
   "source": [
    "### 清理数据\n",
    "#### 评估数据\n",
    "通过相应的函数获取到了数据信息，那么接下来需要了解数据信息以确定接下来的数据清洗的相对应的工作。Python 中 Pandas 提供了很多方便的方式进行数据访问，同样地在 R 中可以使用一些简单的函数来完成相应的工作：\n",
    "\n",
    "1. 访问 `data.frame` 的前后部分数据，`head()` 与 `tail()`\n",
    "2. 数据总体信息，例如字段名称以及数据类型 `str()`\n",
    "3. 字段列名称，`names()`\n",
    "4. 数据维度信息，`dim()`、`nrow()` 以及 `ncol()`，此外还可以使用 `NROW()` 和 `NCOL()` 来获取向量数据的维度——是将向量作为了一维矩阵\n",
    "5. 判断数据是否为缺失值，`is.nan()`。此外需要注意 R 是区分缺失值和占位符值——`is.nan()` 和 `is.na()` 检测的是两种情况\n",
    "6. 行或列方向求和， `rowSums()` 与 `colSums()`"
   ]
  },
  {
   "cell_type": "code",
   "execution_count": 3,
   "metadata": {
    "scrolled": false
   },
   "outputs": [
    {
     "data": {
      "text/html": [
       "<table>\n",
       "<thead><tr><th scope=col>Name</th><th scope=col>bonus</th><th scope=col>deferral_payments</th><th scope=col>deferred_income</th><th scope=col>director_fees</th><th scope=col>email_address</th><th scope=col>exercised_stock_options</th><th scope=col>expenses</th><th scope=col>from_messages</th><th scope=col>from_poi_to_this_person</th><th scope=col>⋯</th><th scope=col>long_term_incentive</th><th scope=col>other</th><th scope=col>poi</th><th scope=col>restricted_stock</th><th scope=col>restricted_stock_deferred</th><th scope=col>salary</th><th scope=col>shared_receipt_with_poi</th><th scope=col>to_messages</th><th scope=col>total_payments</th><th scope=col>total_stock_value</th></tr></thead>\n",
       "<tbody>\n",
       "\t<tr><td>ALLEN PHILLIP K        </td><td>4175000                </td><td>2869717                </td><td>-3081055               </td><td>NaN                    </td><td>phillip.allen@enron.com</td><td>1729541                </td><td>13868                  </td><td>2195                   </td><td> 47                    </td><td>⋯                      </td><td>304805                 </td><td>152                    </td><td>FALSE                  </td><td>126027                 </td><td>-126027                </td><td>201955                 </td><td>1407                   </td><td>2902                   </td><td>4484442                </td><td>1729541                </td></tr>\n",
       "\t<tr><td>BADUM JAMES P          </td><td>    NaN                </td><td> 178980                </td><td>     NaN               </td><td>NaN                    </td><td>NaN                    </td><td> 257817                </td><td> 3486                  </td><td> NaN                   </td><td>NaN                    </td><td>⋯                      </td><td>   NaN                 </td><td>NaN                    </td><td>FALSE                  </td><td>   NaN                 </td><td>    NaN                </td><td>   NaN                 </td><td> NaN                   </td><td> NaN                   </td><td> 182466                </td><td> 257817                </td></tr>\n",
       "</tbody>\n",
       "</table>\n"
      ],
      "text/latex": [
       "\\begin{tabular}{r|llllllllllllllllllllll}\n",
       " Name & bonus & deferral\\_payments & deferred\\_income & director\\_fees & email\\_address & exercised\\_stock\\_options & expenses & from\\_messages & from\\_poi\\_to\\_this\\_person & ⋯ & long\\_term\\_incentive & other & poi & restricted\\_stock & restricted\\_stock\\_deferred & salary & shared\\_receipt\\_with\\_poi & to\\_messages & total\\_payments & total\\_stock\\_value\\\\\n",
       "\\hline\n",
       "\t ALLEN PHILLIP K         & 4175000                 & 2869717                 & -3081055                & NaN                     & phillip.allen@enron.com & 1729541                 & 13868                   & 2195                    &  47                     & ⋯                       & 304805                  & 152                     & FALSE                   & 126027                  & -126027                 & 201955                  & 1407                    & 2902                    & 4484442                 & 1729541                \\\\\n",
       "\t BADUM JAMES P           &     NaN                 &  178980                 &      NaN                & NaN                     & NaN                     &  257817                 &  3486                   &  NaN                    & NaN                     & ⋯                       &    NaN                  & NaN                     & FALSE                   &    NaN                  &     NaN                 &    NaN                  &  NaN                    &  NaN                    &  182466                 &  257817                \\\\\n",
       "\\end{tabular}\n"
      ],
      "text/markdown": [
       "\n",
       "Name | bonus | deferral_payments | deferred_income | director_fees | email_address | exercised_stock_options | expenses | from_messages | from_poi_to_this_person | ⋯ | long_term_incentive | other | poi | restricted_stock | restricted_stock_deferred | salary | shared_receipt_with_poi | to_messages | total_payments | total_stock_value | \n",
       "|---|---|\n",
       "| ALLEN PHILLIP K         | 4175000                 | 2869717                 | -3081055                | NaN                     | phillip.allen@enron.com | 1729541                 | 13868                   | 2195                    |  47                     | ⋯                       | 304805                  | 152                     | FALSE                   | 126027                  | -126027                 | 201955                  | 1407                    | 2902                    | 4484442                 | 1729541                 | \n",
       "| BADUM JAMES P           |     NaN                 |  178980                 |      NaN                | NaN                     | NaN                     |  257817                 |  3486                   |  NaN                    | NaN                     | ⋯                       |    NaN                  | NaN                     | FALSE                   |    NaN                  |     NaN                 |    NaN                  |  NaN                    |  NaN                    |  182466                 |  257817                 | \n",
       "\n",
       "\n"
      ],
      "text/plain": [
       "  Name            bonus   deferral_payments deferred_income director_fees\n",
       "1 ALLEN PHILLIP K 4175000 2869717           -3081055        NaN          \n",
       "2 BADUM JAMES P       NaN  178980                NaN        NaN          \n",
       "  email_address           exercised_stock_options expenses from_messages\n",
       "1 phillip.allen@enron.com 1729541                 13868    2195         \n",
       "2 NaN                      257817                  3486     NaN         \n",
       "  from_poi_to_this_person ⋯ long_term_incentive other poi   restricted_stock\n",
       "1  47                     ⋯ 304805              152   FALSE 126027          \n",
       "2 NaN                     ⋯    NaN              NaN   FALSE    NaN          \n",
       "  restricted_stock_deferred salary shared_receipt_with_poi to_messages\n",
       "1 -126027                   201955 1407                    2902       \n",
       "2     NaN                      NaN  NaN                     NaN       \n",
       "  total_payments total_stock_value\n",
       "1 4484442        1729541          \n",
       "2  182466         257817          "
      ]
     },
     "metadata": {},
     "output_type": "display_data"
    }
   ],
   "source": [
    "# 使用 head 函数访问前部分数据\n",
    "head(df, n=2)"
   ]
  },
  {
   "cell_type": "code",
   "execution_count": 4,
   "metadata": {},
   "outputs": [
    {
     "name": "stdout",
     "output_type": "stream",
     "text": [
      "'data.frame':\t146 obs. of  22 variables:\n",
      " $ Name                     : Factor w/ 146 levels \"ALLEN PHILLIP K\",..: 1 2 3 4 5 6 7 8 9 10 ...\n",
      " $ bonus                    : num  4175000 NaN NaN 1200000 400000 ...\n",
      " $ deferral_payments        : num  2869717 178980 NaN 1295738 260455 ...\n",
      " $ deferred_income          : num  -3081055 NaN -5104 -1386055 -201641 ...\n",
      " $ director_fees            : num  NaN NaN NaN NaN NaN ...\n",
      " $ email_address            : Factor w/ 112 levels \"NaN\",\"a..martin@enron.com\",..: 80 1 30 1 22 1 97 105 1 16 ...\n",
      " $ exercised_stock_options  : num  1729541 257817 4046157 6680544 NaN ...\n",
      " $ expenses                 : num  13868 3486 56301 11200 129142 ...\n",
      " $ from_messages            : num  2195 NaN 29 NaN NaN ...\n",
      " $ from_poi_to_this_person  : num  47 NaN 39 NaN NaN NaN 144 228 NaN NaN ...\n",
      " $ from_this_person_to_poi  : num  65 NaN 0 NaN NaN NaN 386 108 NaN NaN ...\n",
      " $ loan_advances            : num  NaN NaN NaN NaN NaN NaN NaN NaN NaN NaN ...\n",
      " $ long_term_incentive      : num  304805 NaN NaN 1586055 NaN ...\n",
      " $ other                    : num  152 NaN 864523 2660303 69 ...\n",
      " $ poi                      : logi  FALSE FALSE FALSE FALSE FALSE FALSE ...\n",
      " $ restricted_stock         : num  126027 NaN 1757552 3942714 145796 ...\n",
      " $ restricted_stock_deferred: num  -126027 NaN -560222 NaN -82782 ...\n",
      " $ salary                   : num  201955 NaN 477 267102 239671 ...\n",
      " $ shared_receipt_with_poi  : num  1407 NaN 465 NaN NaN ...\n",
      " $ to_messages              : num  2902 NaN 566 NaN NaN ...\n",
      " $ total_payments           : num  4484442 182466 916197 5634343 827696 ...\n",
      " $ total_stock_value        : num  1729541 257817 5243487 10623258 63014 ...\n"
     ]
    }
   ],
   "source": [
    "# 了解数据整体信息\n",
    "str(df)"
   ]
  },
  {
   "cell_type": "code",
   "execution_count": 5,
   "metadata": {},
   "outputs": [
    {
     "data": {
      "text/html": [
       "<ol class=list-inline>\n",
       "\t<li>'Name'</li>\n",
       "\t<li>'bonus'</li>\n",
       "\t<li>'deferral_payments'</li>\n",
       "\t<li>'deferred_income'</li>\n",
       "\t<li>'director_fees'</li>\n",
       "\t<li>'email_address'</li>\n",
       "\t<li>'exercised_stock_options'</li>\n",
       "\t<li>'expenses'</li>\n",
       "\t<li>'from_messages'</li>\n",
       "\t<li>'from_poi_to_this_person'</li>\n",
       "\t<li>'from_this_person_to_poi'</li>\n",
       "\t<li>'loan_advances'</li>\n",
       "\t<li>'long_term_incentive'</li>\n",
       "\t<li>'other'</li>\n",
       "\t<li>'poi'</li>\n",
       "\t<li>'restricted_stock'</li>\n",
       "\t<li>'restricted_stock_deferred'</li>\n",
       "\t<li>'salary'</li>\n",
       "\t<li>'shared_receipt_with_poi'</li>\n",
       "\t<li>'to_messages'</li>\n",
       "\t<li>'total_payments'</li>\n",
       "\t<li>'total_stock_value'</li>\n",
       "</ol>\n"
      ],
      "text/latex": [
       "\\begin{enumerate*}\n",
       "\\item 'Name'\n",
       "\\item 'bonus'\n",
       "\\item 'deferral\\_payments'\n",
       "\\item 'deferred\\_income'\n",
       "\\item 'director\\_fees'\n",
       "\\item 'email\\_address'\n",
       "\\item 'exercised\\_stock\\_options'\n",
       "\\item 'expenses'\n",
       "\\item 'from\\_messages'\n",
       "\\item 'from\\_poi\\_to\\_this\\_person'\n",
       "\\item 'from\\_this\\_person\\_to\\_poi'\n",
       "\\item 'loan\\_advances'\n",
       "\\item 'long\\_term\\_incentive'\n",
       "\\item 'other'\n",
       "\\item 'poi'\n",
       "\\item 'restricted\\_stock'\n",
       "\\item 'restricted\\_stock\\_deferred'\n",
       "\\item 'salary'\n",
       "\\item 'shared\\_receipt\\_with\\_poi'\n",
       "\\item 'to\\_messages'\n",
       "\\item 'total\\_payments'\n",
       "\\item 'total\\_stock\\_value'\n",
       "\\end{enumerate*}\n"
      ],
      "text/markdown": [
       "1. 'Name'\n",
       "2. 'bonus'\n",
       "3. 'deferral_payments'\n",
       "4. 'deferred_income'\n",
       "5. 'director_fees'\n",
       "6. 'email_address'\n",
       "7. 'exercised_stock_options'\n",
       "8. 'expenses'\n",
       "9. 'from_messages'\n",
       "10. 'from_poi_to_this_person'\n",
       "11. 'from_this_person_to_poi'\n",
       "12. 'loan_advances'\n",
       "13. 'long_term_incentive'\n",
       "14. 'other'\n",
       "15. 'poi'\n",
       "16. 'restricted_stock'\n",
       "17. 'restricted_stock_deferred'\n",
       "18. 'salary'\n",
       "19. 'shared_receipt_with_poi'\n",
       "20. 'to_messages'\n",
       "21. 'total_payments'\n",
       "22. 'total_stock_value'\n",
       "\n",
       "\n"
      ],
      "text/plain": [
       " [1] \"Name\"                      \"bonus\"                    \n",
       " [3] \"deferral_payments\"         \"deferred_income\"          \n",
       " [5] \"director_fees\"             \"email_address\"            \n",
       " [7] \"exercised_stock_options\"   \"expenses\"                 \n",
       " [9] \"from_messages\"             \"from_poi_to_this_person\"  \n",
       "[11] \"from_this_person_to_poi\"   \"loan_advances\"            \n",
       "[13] \"long_term_incentive\"       \"other\"                    \n",
       "[15] \"poi\"                       \"restricted_stock\"         \n",
       "[17] \"restricted_stock_deferred\" \"salary\"                   \n",
       "[19] \"shared_receipt_with_poi\"   \"to_messages\"              \n",
       "[21] \"total_payments\"            \"total_stock_value\"        "
      ]
     },
     "metadata": {},
     "output_type": "display_data"
    }
   ],
   "source": [
    "# names 函数不仅被用于获取字段名称，而且还可以对列名称进行修改——names(test) <- c(\"a\", \"b\")\n",
    "names(df)"
   ]
  },
  {
   "cell_type": "code",
   "execution_count": 6,
   "metadata": {},
   "outputs": [
    {
     "name": "stdout",
     "output_type": "stream",
     "text": [
      "$d\n",
      "[1] 1 2 3\n",
      "\n",
      "修改名称后数据：\n",
      "$b\n",
      "[1] 1 2 3\n",
      "\n"
     ]
    }
   ],
   "source": [
    "# 注意⚠️，此部分作为了解\n",
    "t <- list(d=c(1, 2, 3))\n",
    "print(t)\n",
    "names(t) <- \"b\"\n",
    "cat(\"修改名称后数据：\\n\")\n",
    "print(t)"
   ]
  },
  {
   "cell_type": "markdown",
   "metadata": {},
   "source": [
    "以上内容可以帮助了解数据字段相关类型和名称，如果需要了解数据字段的意义，需要了解数据背景信息：\n",
    "* 财务特征 : [‘salary’, ‘deferral_payments’, ‘total_payments’, ‘loan_advances’, ‘bonus’, ‘restricted_stock_deferred’, ‘deferred_income’, ‘total_stock_value’, ‘expenses’, ‘exercised_stock_options’, ‘other’, ‘long_term_incentive’, ‘restricted_stock’, ‘director_fees’]\n",
    "\n",
    "* 邮件特征 : [‘to_messages’, ‘email_address’, ‘from_poi_to_this_person’, ‘from_messages’, ‘from_this_person_to_poi’, ‘shared_receipt_with_poi’]\n",
    "\n",
    "* POI 嫌疑人标签\n",
    "\n",
    "----\n",
    "总体来看以上相应的步骤中，可以看出一些相应的信息。首先观察这个数据集的基本信息，有 **146** 条数据，**22** 个变量。这是了解数据的第一步，接下来来看每个字段的字段类型，大部分都是 Num——数值型数据,有一个logi——逻辑型数据，还有factor——因子型数据。查看会发现 factor 数据，email_address 和 Name 是在**读取数据过程中被转换为了 factor 类型；可以通过 `stringAsFactors` 参数进行调整**\n",
    "\n",
    "如果评估数据其他情况，例如**缺失值**、**异常值**，可以采用其他方式来解决：\n",
    "1. 缺失值\n",
    "    除了可以使用 `colSums()`, `rowSums()` 配合 `is.na()` 进行计算意外还可以通过其他 package 来进行处理，例如 `VIM`"
   ]
  },
  {
   "cell_type": "code",
   "execution_count": 17,
   "metadata": {},
   "outputs": [
    {
     "data": {
      "text/html": [
       "<dl class=dl-horizontal>\n",
       "\t<dt>Name</dt>\n",
       "\t\t<dd>0</dd>\n",
       "\t<dt>bonus</dt>\n",
       "\t\t<dd>64</dd>\n",
       "\t<dt>deferral_payments</dt>\n",
       "\t\t<dd>107</dd>\n",
       "\t<dt>deferred_income</dt>\n",
       "\t\t<dd>97</dd>\n",
       "</dl>\n"
      ],
      "text/latex": [
       "\\begin{description*}\n",
       "\\item[Name] 0\n",
       "\\item[bonus] 64\n",
       "\\item[deferral\\textbackslash{}\\_payments] 107\n",
       "\\item[deferred\\textbackslash{}\\_income] 97\n",
       "\\end{description*}\n"
      ],
      "text/markdown": [
       "Name\n",
       ":   0bonus\n",
       ":   64deferral_payments\n",
       ":   107deferred_income\n",
       ":   97\n",
       "\n"
      ],
      "text/plain": [
       "             Name             bonus deferral_payments   deferred_income \n",
       "                0                64               107                97 "
      ]
     },
     "metadata": {},
     "output_type": "display_data"
    }
   ],
   "source": [
    "# 各字段缺失值情况\n",
    "colSums(is.na(df))[1:4]"
   ]
  },
  {
   "cell_type": "code",
   "execution_count": 32,
   "metadata": {},
   "outputs": [
    {
     "data": {
      "text/html": [
       "<ol class=list-inline>\n",
       "\t<li>146</li>\n",
       "\t<li>22</li>\n",
       "</ol>\n"
      ],
      "text/latex": [
       "\\begin{enumerate*}\n",
       "\\item 146\n",
       "\\item 22\n",
       "\\end{enumerate*}\n"
      ],
      "text/markdown": [
       "1. 146\n",
       "2. 22\n",
       "\n",
       "\n"
      ],
      "text/plain": [
       "[1] 146  22"
      ]
     },
     "metadata": {},
     "output_type": "display_data"
    }
   ],
   "source": [
    "dim(df)"
   ]
  },
  {
   "cell_type": "code",
   "execution_count": 31,
   "metadata": {},
   "outputs": [
    {
     "name": "stderr",
     "output_type": "stream",
     "text": [
      "Warning message:\n",
      "“unable to access index for repository https://cran.r-project.org/src/contrib:\n",
      "  無法載入網際網路例行程式”Warning message:\n",
      "“package ‘VIM’ is not available (for R version 3.4.2)”"
     ]
    }
   ],
   "source": [
    "install.packages(\"VIM\")"
   ]
  },
  {
   "cell_type": "code",
   "execution_count": 30,
   "metadata": {},
   "outputs": [],
   "source": [
    "library(purrr)"
   ]
  },
  {
   "cell_type": "markdown",
   "metadata": {},
   "source": [
    "#### 清理数据"
   ]
  }
 ],
 "metadata": {
  "kernelspec": {
   "display_name": "R [conda env:R]",
   "language": "R",
   "name": "conda-env-R-r"
  },
  "language_info": {
   "codemirror_mode": "r",
   "file_extension": ".r",
   "mimetype": "text/x-r-source",
   "name": "R",
   "pygments_lexer": "r",
   "version": "3.4.2"
  },
  "latex_envs": {
   "LaTeX_envs_menu_present": true,
   "autoclose": false,
   "autocomplete": true,
   "bibliofile": "biblio.bib",
   "cite_by": "apalike",
   "current_citInitial": 1,
   "eqLabelWithNumbers": true,
   "eqNumInitial": 1,
   "hotkeys": {
    "equation": "Ctrl-E",
    "itemize": "Ctrl-I"
   },
   "labels_anchors": false,
   "latex_user_defs": false,
   "report_style_numbering": false,
   "user_envs_cfg": false
  },
  "toc": {
   "base_numbering": 1,
   "nav_menu": {},
   "number_sections": true,
   "sideBar": true,
   "skip_h1_title": false,
   "title_cell": "Table of Contents",
   "title_sidebar": "Contents",
   "toc_cell": false,
   "toc_position": {},
   "toc_section_display": true,
   "toc_window_display": true
  }
 },
 "nbformat": 4,
 "nbformat_minor": 2
}
