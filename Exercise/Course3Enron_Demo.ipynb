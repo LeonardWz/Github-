{
 "cells": [
  {
   "cell_type": "markdown",
   "metadata": {},
   "source": [
    "## 安然数据\n",
    "首先确定目的是为了进行数据分析，因此需要从数据分析的过程去看看怎么样使用 R 来进行相关过程。本次将以安然的部分数据来进行分析，重点将以 EDA 的角度来进行：\n",
    "\n",
    "1. 读取数据\n",
    "2. 数据清理\n",
    "3. **探索分析**\n",
    "    * 单变量分析\n",
    "    * 双变量分析\n",
    "    * 多变量分析\n",
    "4. 建模"
   ]
  },
  {
   "cell_type": "code",
   "execution_count": 58,
   "metadata": {},
   "outputs": [],
   "source": [
    "default.par <- par()"
   ]
  },
  {
   "cell_type": "code",
   "execution_count": 1,
   "metadata": {
    "scrolled": true
   },
   "outputs": [
    {
     "name": "stderr",
     "output_type": "stream",
     "text": [
      "\n",
      "Attaching package: 'dplyr'\n",
      "\n",
      "The following objects are masked from 'package:stats':\n",
      "\n",
      "    filter, lag\n",
      "\n",
      "The following objects are masked from 'package:base':\n",
      "\n",
      "    intersect, setdiff, setequal, union\n",
      "\n"
     ]
    }
   ],
   "source": [
    "library(ggplot2)\n",
    "library(dplyr)"
   ]
  },
  {
   "cell_type": "markdown",
   "metadata": {},
   "source": [
    "### 读取数据\n",
    "R 同样可以读取多种类型的数据文件，例如Excel、XML、SPSS、SAS 和 MATLAB，剪贴板，甚至是网络数据。常用的函数中需要注意，`read.csv()` 和 `read.csv2()` 的差异——后者默认是使用`;` 作为分隔符，`,` 作为千分位的 CSV 文件类型。对于其他异常数据作为缺失值，可以通过 `na.strings` 参数进行调整——`na.strings=c(\"NULL\", \"#N/A\", \"#DIV/0\")`。\n",
    "\n",
    "<font size=1 color=\"green\">补充信息：\n",
    "    <ol>\n",
    "        <li>如果需要保存相应的数据，那么可以使用 <code>write.table</code> 等函数</li>\n",
    "        <li>此外如果需要<b>交互</b>，可以使用 <code>readline()</code></li>\n",
    "        <li>下载数据，可以使用 <code>download.file()</code> 或者 <code>RCurl</code>包获取 HTML 或 XML 数据，而 <code>XML</code> 包中的相关函数可以进行页面解析\n",
    "    </ol>\n",
    "</font>"
   ]
  },
  {
   "cell_type": "code",
   "execution_count": 2,
   "metadata": {},
   "outputs": [],
   "source": [
    "df <- read.csv(\"./data/enron.csv\")"
   ]
  },
  {
   "cell_type": "markdown",
   "metadata": {},
   "source": [
    "### 清理数据\n",
    "#### 评估数据\n",
    "通过相应的函数获取到了数据信息，那么接下来需要了解数据信息以确定接下来的数据清洗的相对应的工作。Python 中 Pandas 提供了很多方便的方式进行数据访问，同样地在 R 中可以使用一些简单的函数来完成相应的工作：\n",
    "\n",
    "1. 访问 `data.frame` 的前后部分数据，`head()` 与 `tail()`\n",
    "2. 数据总体信息，例如字段名称以及数据类型 `str()`\n",
    "3. 字段列名称，`names()`\n",
    "4. 数据维度信息，`dim()`、`nrow()` 以及 `ncol()`，此外还可以使用 `NROW()` 和 `NCOL()` 来获取向量数据的维度——是将向量作为了一维矩阵\n",
    "5. 判断数据是否为缺失值，`is.nan()`。此外需要注意 R 是区分缺失值和占位符值——`is.nan()` 和 `is.na()` 检测的是两种情况\n",
    "6. 行或列方向求和， `rowSums()` 与 `colSums()`"
   ]
  },
  {
   "cell_type": "code",
   "execution_count": 3,
   "metadata": {
    "scrolled": false
   },
   "outputs": [
    {
     "data": {
      "text/html": [
       "<table>\n",
       "<thead><tr><th scope=col>Name</th><th scope=col>bonus</th><th scope=col>deferral_payments</th><th scope=col>deferred_income</th><th scope=col>director_fees</th><th scope=col>email_address</th><th scope=col>exercised_stock_options</th><th scope=col>expenses</th><th scope=col>from_messages</th><th scope=col>from_poi_to_this_person</th><th scope=col>...</th><th scope=col>long_term_incentive</th><th scope=col>other</th><th scope=col>poi</th><th scope=col>restricted_stock</th><th scope=col>restricted_stock_deferred</th><th scope=col>salary</th><th scope=col>shared_receipt_with_poi</th><th scope=col>to_messages</th><th scope=col>total_payments</th><th scope=col>total_stock_value</th></tr></thead>\n",
       "<tbody>\n",
       "\t<tr><td>ALLEN PHILLIP K        </td><td>4175000                </td><td>2869717                </td><td>-3081055               </td><td>NaN                    </td><td>phillip.allen@enron.com</td><td>1729541                </td><td>13868                  </td><td>2195                   </td><td> 47                    </td><td>...                    </td><td>304805                 </td><td>152                    </td><td>FALSE                  </td><td>126027                 </td><td>-126027                </td><td>201955                 </td><td>1407                   </td><td>2902                   </td><td>4484442                </td><td>1729541                </td></tr>\n",
       "\t<tr><td>BADUM JAMES P          </td><td>    NaN                </td><td> 178980                </td><td>     NaN               </td><td>NaN                    </td><td>NaN                    </td><td> 257817                </td><td> 3486                  </td><td> NaN                   </td><td>NaN                    </td><td>...                    </td><td>   NaN                 </td><td>NaN                    </td><td>FALSE                  </td><td>   NaN                 </td><td>    NaN                </td><td>   NaN                 </td><td> NaN                   </td><td> NaN                   </td><td> 182466                </td><td> 257817                </td></tr>\n",
       "</tbody>\n",
       "</table>\n"
      ],
      "text/latex": [
       "\\begin{tabular}{r|llllllllllllllllllllll}\n",
       " Name & bonus & deferral\\_payments & deferred\\_income & director\\_fees & email\\_address & exercised\\_stock\\_options & expenses & from\\_messages & from\\_poi\\_to\\_this\\_person & ... & long\\_term\\_incentive & other & poi & restricted\\_stock & restricted\\_stock\\_deferred & salary & shared\\_receipt\\_with\\_poi & to\\_messages & total\\_payments & total\\_stock\\_value\\\\\n",
       "\\hline\n",
       "\t ALLEN PHILLIP K         & 4175000                 & 2869717                 & -3081055                & NaN                     & phillip.allen@enron.com & 1729541                 & 13868                   & 2195                    &  47                     & ...                     & 304805                  & 152                     & FALSE                   & 126027                  & -126027                 & 201955                  & 1407                    & 2902                    & 4484442                 & 1729541                \\\\\n",
       "\t BADUM JAMES P           &     NaN                 &  178980                 &      NaN                & NaN                     & NaN                     &  257817                 &  3486                   &  NaN                    & NaN                     & ...                     &    NaN                  & NaN                     & FALSE                   &    NaN                  &     NaN                 &    NaN                  &  NaN                    &  NaN                    &  182466                 &  257817                \\\\\n",
       "\\end{tabular}\n"
      ],
      "text/markdown": [
       "\n",
       "| Name | bonus | deferral_payments | deferred_income | director_fees | email_address | exercised_stock_options | expenses | from_messages | from_poi_to_this_person | ... | long_term_incentive | other | poi | restricted_stock | restricted_stock_deferred | salary | shared_receipt_with_poi | to_messages | total_payments | total_stock_value |\n",
       "|---|---|---|---|---|---|---|---|---|---|---|---|---|---|---|---|---|---|---|---|---|\n",
       "| ALLEN PHILLIP K         | 4175000                 | 2869717                 | -3081055                | NaN                     | phillip.allen@enron.com | 1729541                 | 13868                   | 2195                    |  47                     | ...                     | 304805                  | 152                     | FALSE                   | 126027                  | -126027                 | 201955                  | 1407                    | 2902                    | 4484442                 | 1729541                 |\n",
       "| BADUM JAMES P           |     NaN                 |  178980                 |      NaN                | NaN                     | NaN                     |  257817                 |  3486                   |  NaN                    | NaN                     | ...                     |    NaN                  | NaN                     | FALSE                   |    NaN                  |     NaN                 |    NaN                  |  NaN                    |  NaN                    |  182466                 |  257817                 |\n",
       "\n"
      ],
      "text/plain": [
       "  Name            bonus   deferral_payments deferred_income director_fees\n",
       "1 ALLEN PHILLIP K 4175000 2869717           -3081055        NaN          \n",
       "2 BADUM JAMES P       NaN  178980                NaN        NaN          \n",
       "  email_address           exercised_stock_options expenses from_messages\n",
       "1 phillip.allen@enron.com 1729541                 13868    2195         \n",
       "2 NaN                      257817                  3486     NaN         \n",
       "  from_poi_to_this_person ... long_term_incentive other poi   restricted_stock\n",
       "1  47                     ... 304805              152   FALSE 126027          \n",
       "2 NaN                     ...    NaN              NaN   FALSE    NaN          \n",
       "  restricted_stock_deferred salary shared_receipt_with_poi to_messages\n",
       "1 -126027                   201955 1407                    2902       \n",
       "2     NaN                      NaN  NaN                     NaN       \n",
       "  total_payments total_stock_value\n",
       "1 4484442        1729541          \n",
       "2  182466         257817          "
      ]
     },
     "metadata": {},
     "output_type": "display_data"
    }
   ],
   "source": [
    "# 使用 head 函数访问前部分数据\n",
    "head(df, n=2)"
   ]
  },
  {
   "cell_type": "code",
   "execution_count": 4,
   "metadata": {},
   "outputs": [
    {
     "name": "stdout",
     "output_type": "stream",
     "text": [
      "'data.frame':\t146 obs. of  22 variables:\n",
      " $ Name                     : Factor w/ 146 levels \"ALLEN PHILLIP K\",..: 1 2 3 4 5 6 7 8 9 10 ...\n",
      " $ bonus                    : num  4175000 NaN NaN 1200000 400000 ...\n",
      " $ deferral_payments        : num  2869717 178980 NaN 1295738 260455 ...\n",
      " $ deferred_income          : num  -3081055 NaN -5104 -1386055 -201641 ...\n",
      " $ director_fees            : num  NaN NaN NaN NaN NaN ...\n",
      " $ email_address            : Factor w/ 112 levels \"a..martin@enron.com\",..: 80 77 29 77 21 77 97 105 77 15 ...\n",
      " $ exercised_stock_options  : num  1729541 257817 4046157 6680544 NaN ...\n",
      " $ expenses                 : num  13868 3486 56301 11200 129142 ...\n",
      " $ from_messages            : num  2195 NaN 29 NaN NaN ...\n",
      " $ from_poi_to_this_person  : num  47 NaN 39 NaN NaN NaN 144 228 NaN NaN ...\n",
      " $ from_this_person_to_poi  : num  65 NaN 0 NaN NaN NaN 386 108 NaN NaN ...\n",
      " $ loan_advances            : num  NaN NaN NaN NaN NaN NaN NaN NaN NaN NaN ...\n",
      " $ long_term_incentive      : num  304805 NaN NaN 1586055 NaN ...\n",
      " $ other                    : num  152 NaN 864523 2660303 69 ...\n",
      " $ poi                      : logi  FALSE FALSE FALSE FALSE FALSE FALSE ...\n",
      " $ restricted_stock         : num  126027 NaN 1757552 3942714 145796 ...\n",
      " $ restricted_stock_deferred: num  -126027 NaN -560222 NaN -82782 ...\n",
      " $ salary                   : num  201955 NaN 477 267102 239671 ...\n",
      " $ shared_receipt_with_poi  : num  1407 NaN 465 NaN NaN ...\n",
      " $ to_messages              : num  2902 NaN 566 NaN NaN ...\n",
      " $ total_payments           : num  4484442 182466 916197 5634343 827696 ...\n",
      " $ total_stock_value        : num  1729541 257817 5243487 10623258 63014 ...\n"
     ]
    }
   ],
   "source": [
    "# 了解数据整体信息\n",
    "str(df)"
   ]
  },
  {
   "cell_type": "code",
   "execution_count": 5,
   "metadata": {},
   "outputs": [
    {
     "data": {
      "text/html": [
       "<ol class=list-inline>\n",
       "\t<li>'Name'</li>\n",
       "\t<li>'bonus'</li>\n",
       "\t<li>'deferral_payments'</li>\n",
       "\t<li>'deferred_income'</li>\n",
       "\t<li>'director_fees'</li>\n",
       "\t<li>'email_address'</li>\n",
       "\t<li>'exercised_stock_options'</li>\n",
       "\t<li>'expenses'</li>\n",
       "\t<li>'from_messages'</li>\n",
       "\t<li>'from_poi_to_this_person'</li>\n",
       "\t<li>'from_this_person_to_poi'</li>\n",
       "\t<li>'loan_advances'</li>\n",
       "\t<li>'long_term_incentive'</li>\n",
       "\t<li>'other'</li>\n",
       "\t<li>'poi'</li>\n",
       "\t<li>'restricted_stock'</li>\n",
       "\t<li>'restricted_stock_deferred'</li>\n",
       "\t<li>'salary'</li>\n",
       "\t<li>'shared_receipt_with_poi'</li>\n",
       "\t<li>'to_messages'</li>\n",
       "\t<li>'total_payments'</li>\n",
       "\t<li>'total_stock_value'</li>\n",
       "</ol>\n"
      ],
      "text/latex": [
       "\\begin{enumerate*}\n",
       "\\item 'Name'\n",
       "\\item 'bonus'\n",
       "\\item 'deferral\\_payments'\n",
       "\\item 'deferred\\_income'\n",
       "\\item 'director\\_fees'\n",
       "\\item 'email\\_address'\n",
       "\\item 'exercised\\_stock\\_options'\n",
       "\\item 'expenses'\n",
       "\\item 'from\\_messages'\n",
       "\\item 'from\\_poi\\_to\\_this\\_person'\n",
       "\\item 'from\\_this\\_person\\_to\\_poi'\n",
       "\\item 'loan\\_advances'\n",
       "\\item 'long\\_term\\_incentive'\n",
       "\\item 'other'\n",
       "\\item 'poi'\n",
       "\\item 'restricted\\_stock'\n",
       "\\item 'restricted\\_stock\\_deferred'\n",
       "\\item 'salary'\n",
       "\\item 'shared\\_receipt\\_with\\_poi'\n",
       "\\item 'to\\_messages'\n",
       "\\item 'total\\_payments'\n",
       "\\item 'total\\_stock\\_value'\n",
       "\\end{enumerate*}\n"
      ],
      "text/markdown": [
       "1. 'Name'\n",
       "2. 'bonus'\n",
       "3. 'deferral_payments'\n",
       "4. 'deferred_income'\n",
       "5. 'director_fees'\n",
       "6. 'email_address'\n",
       "7. 'exercised_stock_options'\n",
       "8. 'expenses'\n",
       "9. 'from_messages'\n",
       "10. 'from_poi_to_this_person'\n",
       "11. 'from_this_person_to_poi'\n",
       "12. 'loan_advances'\n",
       "13. 'long_term_incentive'\n",
       "14. 'other'\n",
       "15. 'poi'\n",
       "16. 'restricted_stock'\n",
       "17. 'restricted_stock_deferred'\n",
       "18. 'salary'\n",
       "19. 'shared_receipt_with_poi'\n",
       "20. 'to_messages'\n",
       "21. 'total_payments'\n",
       "22. 'total_stock_value'\n",
       "\n",
       "\n"
      ],
      "text/plain": [
       " [1] \"Name\"                      \"bonus\"                    \n",
       " [3] \"deferral_payments\"         \"deferred_income\"          \n",
       " [5] \"director_fees\"             \"email_address\"            \n",
       " [7] \"exercised_stock_options\"   \"expenses\"                 \n",
       " [9] \"from_messages\"             \"from_poi_to_this_person\"  \n",
       "[11] \"from_this_person_to_poi\"   \"loan_advances\"            \n",
       "[13] \"long_term_incentive\"       \"other\"                    \n",
       "[15] \"poi\"                       \"restricted_stock\"         \n",
       "[17] \"restricted_stock_deferred\" \"salary\"                   \n",
       "[19] \"shared_receipt_with_poi\"   \"to_messages\"              \n",
       "[21] \"total_payments\"            \"total_stock_value\"        "
      ]
     },
     "metadata": {},
     "output_type": "display_data"
    }
   ],
   "source": [
    "# names 函数不仅被用于获取字段名称，而且还可以对列名称进行修改——names(test) <- c(\"a\", \"b\")\n",
    "names(df)"
   ]
  },
  {
   "cell_type": "code",
   "execution_count": 6,
   "metadata": {},
   "outputs": [
    {
     "name": "stderr",
     "output_type": "stream",
     "text": [
      "Your code contains a unicode char which cannot be displayed in your\n",
      "current locale and R will silently convert it to an escaped form when the\n",
      "R kernel executes this code. This can lead to subtle errors if you use\n",
      "such chars to do comparisons. For more information, please see\n",
      "https://github.com/IRkernel/repr/wiki/Problems-with-unicode-on-windows"
     ]
    },
    {
     "name": "stdout",
     "output_type": "stream",
     "text": [
      "$d\n",
      "[1] 1 2 3\n",
      "\n",
      "修改名称后数据：\n",
      "$b\n",
      "[1] 1 2 3\n",
      "\n"
     ]
    }
   ],
   "source": [
    "# 注意⚠️，此部分作为了解\n",
    "t <- list(d=c(1, 2, 3))\n",
    "print(t)\n",
    "names(t) <- \"b\"\n",
    "cat(\"修改名称后数据：\\n\")\n",
    "print(t)"
   ]
  },
  {
   "cell_type": "markdown",
   "metadata": {},
   "source": [
    "以上内容可以帮助了解数据字段相关类型和名称，如果需要了解数据字段的意义，需要了解数据背景信息：\n",
    "* 财务特征 : [‘salary’, ‘deferral_payments’, ‘total_payments’, ‘loan_advances’, ‘bonus’, ‘restricted_stock_deferred’, ‘deferred_income’, ‘total_stock_value’, ‘expenses’, ‘exercised_stock_options’, ‘other’, ‘long_term_incentive’, ‘restricted_stock’, ‘director_fees’]\n",
    "\n",
    "* 邮件特征 : [‘to_messages’, ‘email_address’, ‘from_poi_to_this_person’, ‘from_messages’, ‘from_this_person_to_poi’, ‘shared_receipt_with_poi’]\n",
    "\n",
    "* POI 嫌疑人标签\n",
    "\n",
    "----\n",
    "总体来看以上相应的步骤中，可以看出一些相应的信息。首先观察这个数据集的基本信息，有 **146** 条数据，**22** 个变量。这是了解数据的第一步，接下来来看每个字段的字段类型，大部分都是 Num——数值型数据,有一个logi——逻辑型数据，还有factor——因子型数据。查看会发现 factor 数据，email_address 和 Name 是在**读取数据过程中被转换为了 factor 类型；可以通过 `stringAsFactors` 参数进行调整**\n",
    "\n",
    "如果评估数据其他情况，例如**缺失值**、**异常值**，可以采用其他方式来解决：\n",
    "* 缺失值  \n",
    "    * 字段和列数据缺失检查 除了可以使用 `colSums()`, `rowSums()` 配合 `is.na()` 进行计算意外还可以通过其他 package 来进行处理，例如 `VIM` 中 `aggr`进行可视化显示缺失情况或者显示统计数据\n",
    "    * 缺失数据检测，`is.na()` 可以对每个元素数据进行判断，`complete.cases()` 可以对整行数据进行判读是否完全缺失——如果数据完整，即没有缺失值返回 TRUE，反之为 FALSE"
   ]
  },
  {
   "cell_type": "code",
   "execution_count": 7,
   "metadata": {},
   "outputs": [
    {
     "data": {
      "text/html": [
       "<dl class=dl-horizontal>\n",
       "\t<dt>Name</dt>\n",
       "\t\t<dd>0</dd>\n",
       "\t<dt>bonus</dt>\n",
       "\t\t<dd>64</dd>\n",
       "\t<dt>deferral_payments</dt>\n",
       "\t\t<dd>107</dd>\n",
       "\t<dt>deferred_income</dt>\n",
       "\t\t<dd>97</dd>\n",
       "</dl>\n"
      ],
      "text/latex": [
       "\\begin{description*}\n",
       "\\item[Name] 0\n",
       "\\item[bonus] 64\n",
       "\\item[deferral\\textbackslash{}\\_payments] 107\n",
       "\\item[deferred\\textbackslash{}\\_income] 97\n",
       "\\end{description*}\n"
      ],
      "text/markdown": [
       "Name\n",
       ":   0bonus\n",
       ":   64deferral_payments\n",
       ":   107deferred_income\n",
       ":   97\n",
       "\n"
      ],
      "text/plain": [
       "             Name             bonus deferral_payments   deferred_income \n",
       "                0                64               107                97 "
      ]
     },
     "metadata": {},
     "output_type": "display_data"
    }
   ],
   "source": [
    "# 各字段缺失值情况\n",
    "colSums(is.na(df))[1:4]"
   ]
  },
  {
   "cell_type": "code",
   "execution_count": 102,
   "metadata": {},
   "outputs": [
    {
     "data": {
      "text/html": [
       "1323"
      ],
      "text/latex": [
       "1323"
      ],
      "text/markdown": [
       "1323"
      ],
      "text/plain": [
       "[1] 1323"
      ]
     },
     "metadata": {},
     "output_type": "display_data"
    }
   ],
   "source": [
    "sum(is.na(df))"
   ]
  },
  {
   "cell_type": "code",
   "execution_count": 104,
   "metadata": {},
   "outputs": [
    {
     "data": {
      "text/html": [
       "<ol class=list-inline>\n",
       "\t<li>FALSE</li>\n",
       "\t<li>FALSE</li>\n",
       "\t<li>FALSE</li>\n",
       "\t<li>FALSE</li>\n",
       "\t<li>FALSE</li>\n",
       "\t<li>FALSE</li>\n",
       "\t<li>FALSE</li>\n",
       "\t<li>FALSE</li>\n",
       "\t<li>FALSE</li>\n",
       "\t<li>FALSE</li>\n",
       "\t<li>FALSE</li>\n",
       "\t<li>FALSE</li>\n",
       "\t<li>FALSE</li>\n",
       "\t<li>FALSE</li>\n",
       "\t<li>FALSE</li>\n",
       "\t<li>FALSE</li>\n",
       "\t<li>FALSE</li>\n",
       "\t<li>FALSE</li>\n",
       "\t<li>FALSE</li>\n",
       "\t<li>FALSE</li>\n",
       "\t<li>FALSE</li>\n",
       "\t<li>FALSE</li>\n",
       "\t<li>FALSE</li>\n",
       "\t<li>FALSE</li>\n",
       "\t<li>FALSE</li>\n",
       "\t<li>FALSE</li>\n",
       "\t<li>FALSE</li>\n",
       "\t<li>FALSE</li>\n",
       "\t<li>FALSE</li>\n",
       "\t<li>FALSE</li>\n",
       "\t<li>FALSE</li>\n",
       "\t<li>FALSE</li>\n",
       "\t<li>FALSE</li>\n",
       "\t<li>FALSE</li>\n",
       "\t<li>FALSE</li>\n",
       "\t<li>FALSE</li>\n",
       "\t<li>FALSE</li>\n",
       "\t<li>FALSE</li>\n",
       "\t<li>FALSE</li>\n",
       "\t<li>FALSE</li>\n",
       "\t<li>FALSE</li>\n",
       "\t<li>FALSE</li>\n",
       "\t<li>FALSE</li>\n",
       "\t<li>FALSE</li>\n",
       "\t<li>FALSE</li>\n",
       "\t<li>FALSE</li>\n",
       "\t<li>FALSE</li>\n",
       "\t<li>FALSE</li>\n",
       "\t<li>FALSE</li>\n",
       "\t<li>FALSE</li>\n",
       "\t<li>FALSE</li>\n",
       "\t<li>FALSE</li>\n",
       "\t<li>FALSE</li>\n",
       "\t<li>FALSE</li>\n",
       "\t<li>FALSE</li>\n",
       "\t<li>FALSE</li>\n",
       "\t<li>FALSE</li>\n",
       "\t<li>FALSE</li>\n",
       "\t<li>FALSE</li>\n",
       "\t<li>FALSE</li>\n",
       "\t<li>FALSE</li>\n",
       "\t<li>FALSE</li>\n",
       "\t<li>FALSE</li>\n",
       "\t<li>FALSE</li>\n",
       "\t<li>FALSE</li>\n",
       "\t<li>FALSE</li>\n",
       "\t<li>FALSE</li>\n",
       "\t<li>FALSE</li>\n",
       "\t<li>FALSE</li>\n",
       "\t<li>FALSE</li>\n",
       "\t<li>FALSE</li>\n",
       "\t<li>FALSE</li>\n",
       "\t<li>FALSE</li>\n",
       "\t<li>FALSE</li>\n",
       "\t<li>FALSE</li>\n",
       "\t<li>FALSE</li>\n",
       "\t<li>FALSE</li>\n",
       "\t<li>FALSE</li>\n",
       "\t<li>FALSE</li>\n",
       "\t<li>FALSE</li>\n",
       "\t<li>FALSE</li>\n",
       "\t<li>FALSE</li>\n",
       "\t<li>FALSE</li>\n",
       "\t<li>FALSE</li>\n",
       "\t<li>FALSE</li>\n",
       "\t<li>FALSE</li>\n",
       "\t<li>FALSE</li>\n",
       "\t<li>FALSE</li>\n",
       "\t<li>FALSE</li>\n",
       "\t<li>FALSE</li>\n",
       "\t<li>FALSE</li>\n",
       "\t<li>FALSE</li>\n",
       "\t<li>FALSE</li>\n",
       "\t<li>FALSE</li>\n",
       "\t<li>FALSE</li>\n",
       "\t<li>FALSE</li>\n",
       "\t<li>FALSE</li>\n",
       "\t<li>FALSE</li>\n",
       "\t<li>FALSE</li>\n",
       "\t<li>FALSE</li>\n",
       "\t<li>FALSE</li>\n",
       "\t<li>FALSE</li>\n",
       "\t<li>FALSE</li>\n",
       "\t<li>FALSE</li>\n",
       "\t<li>FALSE</li>\n",
       "\t<li>FALSE</li>\n",
       "\t<li>FALSE</li>\n",
       "\t<li>FALSE</li>\n",
       "\t<li>FALSE</li>\n",
       "\t<li>FALSE</li>\n",
       "\t<li>FALSE</li>\n",
       "\t<li>FALSE</li>\n",
       "\t<li>FALSE</li>\n",
       "\t<li>FALSE</li>\n",
       "\t<li>FALSE</li>\n",
       "\t<li>FALSE</li>\n",
       "\t<li>FALSE</li>\n",
       "\t<li>FALSE</li>\n",
       "\t<li>FALSE</li>\n",
       "\t<li>FALSE</li>\n",
       "\t<li>FALSE</li>\n",
       "\t<li>FALSE</li>\n",
       "\t<li>FALSE</li>\n",
       "\t<li>FALSE</li>\n",
       "\t<li>FALSE</li>\n",
       "\t<li>FALSE</li>\n",
       "\t<li>FALSE</li>\n",
       "\t<li>FALSE</li>\n",
       "\t<li>FALSE</li>\n",
       "\t<li>FALSE</li>\n",
       "\t<li>FALSE</li>\n",
       "\t<li>FALSE</li>\n",
       "\t<li>FALSE</li>\n",
       "\t<li>FALSE</li>\n",
       "\t<li>FALSE</li>\n",
       "\t<li>FALSE</li>\n",
       "\t<li>FALSE</li>\n",
       "\t<li>FALSE</li>\n",
       "\t<li>FALSE</li>\n",
       "\t<li>FALSE</li>\n",
       "\t<li>FALSE</li>\n",
       "\t<li>FALSE</li>\n",
       "\t<li>FALSE</li>\n",
       "\t<li>FALSE</li>\n",
       "\t<li>FALSE</li>\n",
       "\t<li>FALSE</li>\n",
       "</ol>\n"
      ],
      "text/latex": [
       "\\begin{enumerate*}\n",
       "\\item FALSE\n",
       "\\item FALSE\n",
       "\\item FALSE\n",
       "\\item FALSE\n",
       "\\item FALSE\n",
       "\\item FALSE\n",
       "\\item FALSE\n",
       "\\item FALSE\n",
       "\\item FALSE\n",
       "\\item FALSE\n",
       "\\item FALSE\n",
       "\\item FALSE\n",
       "\\item FALSE\n",
       "\\item FALSE\n",
       "\\item FALSE\n",
       "\\item FALSE\n",
       "\\item FALSE\n",
       "\\item FALSE\n",
       "\\item FALSE\n",
       "\\item FALSE\n",
       "\\item FALSE\n",
       "\\item FALSE\n",
       "\\item FALSE\n",
       "\\item FALSE\n",
       "\\item FALSE\n",
       "\\item FALSE\n",
       "\\item FALSE\n",
       "\\item FALSE\n",
       "\\item FALSE\n",
       "\\item FALSE\n",
       "\\item FALSE\n",
       "\\item FALSE\n",
       "\\item FALSE\n",
       "\\item FALSE\n",
       "\\item FALSE\n",
       "\\item FALSE\n",
       "\\item FALSE\n",
       "\\item FALSE\n",
       "\\item FALSE\n",
       "\\item FALSE\n",
       "\\item FALSE\n",
       "\\item FALSE\n",
       "\\item FALSE\n",
       "\\item FALSE\n",
       "\\item FALSE\n",
       "\\item FALSE\n",
       "\\item FALSE\n",
       "\\item FALSE\n",
       "\\item FALSE\n",
       "\\item FALSE\n",
       "\\item FALSE\n",
       "\\item FALSE\n",
       "\\item FALSE\n",
       "\\item FALSE\n",
       "\\item FALSE\n",
       "\\item FALSE\n",
       "\\item FALSE\n",
       "\\item FALSE\n",
       "\\item FALSE\n",
       "\\item FALSE\n",
       "\\item FALSE\n",
       "\\item FALSE\n",
       "\\item FALSE\n",
       "\\item FALSE\n",
       "\\item FALSE\n",
       "\\item FALSE\n",
       "\\item FALSE\n",
       "\\item FALSE\n",
       "\\item FALSE\n",
       "\\item FALSE\n",
       "\\item FALSE\n",
       "\\item FALSE\n",
       "\\item FALSE\n",
       "\\item FALSE\n",
       "\\item FALSE\n",
       "\\item FALSE\n",
       "\\item FALSE\n",
       "\\item FALSE\n",
       "\\item FALSE\n",
       "\\item FALSE\n",
       "\\item FALSE\n",
       "\\item FALSE\n",
       "\\item FALSE\n",
       "\\item FALSE\n",
       "\\item FALSE\n",
       "\\item FALSE\n",
       "\\item FALSE\n",
       "\\item FALSE\n",
       "\\item FALSE\n",
       "\\item FALSE\n",
       "\\item FALSE\n",
       "\\item FALSE\n",
       "\\item FALSE\n",
       "\\item FALSE\n",
       "\\item FALSE\n",
       "\\item FALSE\n",
       "\\item FALSE\n",
       "\\item FALSE\n",
       "\\item FALSE\n",
       "\\item FALSE\n",
       "\\item FALSE\n",
       "\\item FALSE\n",
       "\\item FALSE\n",
       "\\item FALSE\n",
       "\\item FALSE\n",
       "\\item FALSE\n",
       "\\item FALSE\n",
       "\\item FALSE\n",
       "\\item FALSE\n",
       "\\item FALSE\n",
       "\\item FALSE\n",
       "\\item FALSE\n",
       "\\item FALSE\n",
       "\\item FALSE\n",
       "\\item FALSE\n",
       "\\item FALSE\n",
       "\\item FALSE\n",
       "\\item FALSE\n",
       "\\item FALSE\n",
       "\\item FALSE\n",
       "\\item FALSE\n",
       "\\item FALSE\n",
       "\\item FALSE\n",
       "\\item FALSE\n",
       "\\item FALSE\n",
       "\\item FALSE\n",
       "\\item FALSE\n",
       "\\item FALSE\n",
       "\\item FALSE\n",
       "\\item FALSE\n",
       "\\item FALSE\n",
       "\\item FALSE\n",
       "\\item FALSE\n",
       "\\item FALSE\n",
       "\\item FALSE\n",
       "\\item FALSE\n",
       "\\item FALSE\n",
       "\\item FALSE\n",
       "\\item FALSE\n",
       "\\item FALSE\n",
       "\\item FALSE\n",
       "\\item FALSE\n",
       "\\item FALSE\n",
       "\\item FALSE\n",
       "\\item FALSE\n",
       "\\item FALSE\n",
       "\\end{enumerate*}\n"
      ],
      "text/markdown": [
       "1. FALSE\n",
       "2. FALSE\n",
       "3. FALSE\n",
       "4. FALSE\n",
       "5. FALSE\n",
       "6. FALSE\n",
       "7. FALSE\n",
       "8. FALSE\n",
       "9. FALSE\n",
       "10. FALSE\n",
       "11. FALSE\n",
       "12. FALSE\n",
       "13. FALSE\n",
       "14. FALSE\n",
       "15. FALSE\n",
       "16. FALSE\n",
       "17. FALSE\n",
       "18. FALSE\n",
       "19. FALSE\n",
       "20. FALSE\n",
       "21. FALSE\n",
       "22. FALSE\n",
       "23. FALSE\n",
       "24. FALSE\n",
       "25. FALSE\n",
       "26. FALSE\n",
       "27. FALSE\n",
       "28. FALSE\n",
       "29. FALSE\n",
       "30. FALSE\n",
       "31. FALSE\n",
       "32. FALSE\n",
       "33. FALSE\n",
       "34. FALSE\n",
       "35. FALSE\n",
       "36. FALSE\n",
       "37. FALSE\n",
       "38. FALSE\n",
       "39. FALSE\n",
       "40. FALSE\n",
       "41. FALSE\n",
       "42. FALSE\n",
       "43. FALSE\n",
       "44. FALSE\n",
       "45. FALSE\n",
       "46. FALSE\n",
       "47. FALSE\n",
       "48. FALSE\n",
       "49. FALSE\n",
       "50. FALSE\n",
       "51. FALSE\n",
       "52. FALSE\n",
       "53. FALSE\n",
       "54. FALSE\n",
       "55. FALSE\n",
       "56. FALSE\n",
       "57. FALSE\n",
       "58. FALSE\n",
       "59. FALSE\n",
       "60. FALSE\n",
       "61. FALSE\n",
       "62. FALSE\n",
       "63. FALSE\n",
       "64. FALSE\n",
       "65. FALSE\n",
       "66. FALSE\n",
       "67. FALSE\n",
       "68. FALSE\n",
       "69. FALSE\n",
       "70. FALSE\n",
       "71. FALSE\n",
       "72. FALSE\n",
       "73. FALSE\n",
       "74. FALSE\n",
       "75. FALSE\n",
       "76. FALSE\n",
       "77. FALSE\n",
       "78. FALSE\n",
       "79. FALSE\n",
       "80. FALSE\n",
       "81. FALSE\n",
       "82. FALSE\n",
       "83. FALSE\n",
       "84. FALSE\n",
       "85. FALSE\n",
       "86. FALSE\n",
       "87. FALSE\n",
       "88. FALSE\n",
       "89. FALSE\n",
       "90. FALSE\n",
       "91. FALSE\n",
       "92. FALSE\n",
       "93. FALSE\n",
       "94. FALSE\n",
       "95. FALSE\n",
       "96. FALSE\n",
       "97. FALSE\n",
       "98. FALSE\n",
       "99. FALSE\n",
       "100. FALSE\n",
       "101. FALSE\n",
       "102. FALSE\n",
       "103. FALSE\n",
       "104. FALSE\n",
       "105. FALSE\n",
       "106. FALSE\n",
       "107. FALSE\n",
       "108. FALSE\n",
       "109. FALSE\n",
       "110. FALSE\n",
       "111. FALSE\n",
       "112. FALSE\n",
       "113. FALSE\n",
       "114. FALSE\n",
       "115. FALSE\n",
       "116. FALSE\n",
       "117. FALSE\n",
       "118. FALSE\n",
       "119. FALSE\n",
       "120. FALSE\n",
       "121. FALSE\n",
       "122. FALSE\n",
       "123. FALSE\n",
       "124. FALSE\n",
       "125. FALSE\n",
       "126. FALSE\n",
       "127. FALSE\n",
       "128. FALSE\n",
       "129. FALSE\n",
       "130. FALSE\n",
       "131. FALSE\n",
       "132. FALSE\n",
       "133. FALSE\n",
       "134. FALSE\n",
       "135. FALSE\n",
       "136. FALSE\n",
       "137. FALSE\n",
       "138. FALSE\n",
       "139. FALSE\n",
       "140. FALSE\n",
       "141. FALSE\n",
       "142. FALSE\n",
       "143. FALSE\n",
       "144. FALSE\n",
       "145. FALSE\n",
       "146. FALSE\n",
       "\n",
       "\n"
      ],
      "text/plain": [
       "  [1] FALSE FALSE FALSE FALSE FALSE FALSE FALSE FALSE FALSE FALSE FALSE FALSE\n",
       " [13] FALSE FALSE FALSE FALSE FALSE FALSE FALSE FALSE FALSE FALSE FALSE FALSE\n",
       " [25] FALSE FALSE FALSE FALSE FALSE FALSE FALSE FALSE FALSE FALSE FALSE FALSE\n",
       " [37] FALSE FALSE FALSE FALSE FALSE FALSE FALSE FALSE FALSE FALSE FALSE FALSE\n",
       " [49] FALSE FALSE FALSE FALSE FALSE FALSE FALSE FALSE FALSE FALSE FALSE FALSE\n",
       " [61] FALSE FALSE FALSE FALSE FALSE FALSE FALSE FALSE FALSE FALSE FALSE FALSE\n",
       " [73] FALSE FALSE FALSE FALSE FALSE FALSE FALSE FALSE FALSE FALSE FALSE FALSE\n",
       " [85] FALSE FALSE FALSE FALSE FALSE FALSE FALSE FALSE FALSE FALSE FALSE FALSE\n",
       " [97] FALSE FALSE FALSE FALSE FALSE FALSE FALSE FALSE FALSE FALSE FALSE FALSE\n",
       "[109] FALSE FALSE FALSE FALSE FALSE FALSE FALSE FALSE FALSE FALSE FALSE FALSE\n",
       "[121] FALSE FALSE FALSE FALSE FALSE FALSE FALSE FALSE FALSE FALSE FALSE FALSE\n",
       "[133] FALSE FALSE FALSE FALSE FALSE FALSE FALSE FALSE FALSE FALSE FALSE FALSE\n",
       "[145] FALSE FALSE"
      ]
     },
     "metadata": {},
     "output_type": "display_data"
    }
   ],
   "source": [
    "complete.cases(df)"
   ]
  },
  {
   "cell_type": "code",
   "execution_count": 68,
   "metadata": {},
   "outputs": [],
   "source": [
    "library(VIM)"
   ]
  },
  {
   "cell_type": "code",
   "execution_count": 67,
   "metadata": {
    "scrolled": false
   },
   "outputs": [
    {
     "name": "stderr",
     "output_type": "stream",
     "text": [
      "Your code contains a unicode char which cannot be displayed in your\n",
      "current locale and R will silently convert it to an escaped form when the\n",
      "R kernel executes this code. This can lead to subtle errors if you use\n",
      "such chars to do comparisons. For more information, please see\n",
      "https://github.com/IRkernel/repr/wiki/Problems-with-unicode-on-windows"
     ]
    },
    {
     "data": {
      "image/png": "[encoded data removed]",
      "text/plain": [
       "plot without title"
      ]
     },
     "metadata": {},
     "output_type": "display_data"
    }
   ],
   "source": [
    "# 右侧图形右侧条形图是一个比例情况，需要结合⏰ mice 的 md.pattern 数据来解读\n",
    "aggr(df, sort.vars=TRUE, cex.lab=.8, cex.axis=.5, gap=2, col=c('navyblue','yellow'))\n"
   ]
  },
  {
   "cell_type": "code",
   "execution_count": 72,
   "metadata": {},
   "outputs": [
    {
     "data": {
      "text/plain": [
       "\n",
       " Missings in variables:\n",
       "                  Variable Count\n",
       "                     bonus    64\n",
       "         deferral_payments   107\n",
       "           deferred_income    97\n",
       "             director_fees   129\n",
       "   exercised_stock_options    44\n",
       "                  expenses    51\n",
       "             from_messages    60\n",
       "   from_poi_to_this_person    60\n",
       "   from_this_person_to_poi    60\n",
       "             loan_advances   142\n",
       "       long_term_incentive    80\n",
       "                     other    53\n",
       "          restricted_stock    36\n",
       " restricted_stock_deferred   128\n",
       "                    salary    51\n",
       "   shared_receipt_with_poi    60\n",
       "               to_messages    60\n",
       "            total_payments    21\n",
       "         total_stock_value    20"
      ]
     },
     "metadata": {},
     "output_type": "display_data"
    }
   ],
   "source": [
    "aggr(df, plot=FALSE)"
   ]
  },
  {
   "cell_type": "markdown",
   "metadata": {},
   "source": [
    "直接得到的数据是是没有进行排序的，如果需要排序的话可以提取出 missings 数值进行排序。\n",
    "```\n",
    "missing <- aggr(df, plot=F)$missings\n",
    "missing[order(missing$Count, decreasing=T),]\n",
    "```"
   ]
  },
  {
   "cell_type": "code",
   "execution_count": 113,
   "metadata": {},
   "outputs": [],
   "source": [
    "# 对于缺失值严重的字段，这里直接进行删除处理方案以及后续不需要使用的字段 email_address\n",
    "df.enron <- subset(df, select = \n",
    "                   -c(loan_advances, director_fees, restricted_stock_deferred, restricted_stock_deferred, deferred_income, email_address))"
   ]
  },
  {
   "cell_type": "code",
   "execution_count": 57,
   "metadata": {},
   "outputs": [
    {
     "name": "stderr",
     "output_type": "stream",
     "text": [
      "Your code contains a unicode char which cannot be displayed in your\n",
      "current locale and R will silently convert it to an escaped form when the\n",
      "R kernel executes this code. This can lead to subtle errors if you use\n",
      "such chars to do comparisons. For more information, please see\n",
      "https://github.com/IRkernel/repr/wiki/Problems-with-unicode-on-windows"
     ]
    },
    {
     "data": {
      "text/html": [
       "<table>\n",
       "<thead><tr><th></th><th scope=col>Name</th><th scope=col>bonus</th><th scope=col>deferral_payments</th><th scope=col></th></tr></thead>\n",
       "<tbody>\n",
       "\t<tr><th scope=row>22</th><td>1  </td><td> 1 </td><td>  1</td><td>  0</td></tr>\n",
       "\t<tr><th scope=row>17</th><td>1  </td><td> 0 </td><td>  1</td><td>  1</td></tr>\n",
       "\t<tr><th scope=row>60</th><td>1  </td><td> 1 </td><td>  0</td><td>  1</td></tr>\n",
       "\t<tr><th scope=row>47</th><td>1  </td><td> 0 </td><td>  0</td><td>  2</td></tr>\n",
       "\t<tr><th scope=row></th><td>0  </td><td>64 </td><td>107</td><td>171</td></tr>\n",
       "</tbody>\n",
       "</table>\n"
      ],
      "text/latex": [
       "\\begin{tabular}{r|llll}\n",
       "  & Name & bonus & deferral\\_payments & \\\\\n",
       "\\hline\n",
       "\t22 & 1   &  1  &   1 &   0\\\\\n",
       "\t17 & 1   &  0  &   1 &   1\\\\\n",
       "\t60 & 1   &  1  &   0 &   1\\\\\n",
       "\t47 & 1   &  0  &   0 &   2\\\\\n",
       "\t & 0   & 64  & 107 & 171\\\\\n",
       "\\end{tabular}\n"
      ],
      "text/markdown": [
       "\n",
       "| <!--/--> | Name | bonus | deferral_payments |  |\n",
       "|---|---|---|---|---|\n",
       "| 22 | 1   |  1  |   1 |   0 |\n",
       "| 17 | 1   |  0  |   1 |   1 |\n",
       "| 60 | 1   |  1  |   0 |   1 |\n",
       "| 47 | 1   |  0  |   0 |   2 |\n",
       "|  | 0   | 64  | 107 | 171 |\n",
       "\n"
      ],
      "text/plain": [
       "   Name bonus deferral_payments    \n",
       "22 1     1      1                 0\n",
       "17 1     0      1                 1\n",
       "60 1     1      0                 1\n",
       "47 1     0      0                 2\n",
       "   0    64    107               171"
      ]
     },
     "metadata": {},
     "output_type": "display_data"
    }
   ],
   "source": [
    "library(mice)\n",
    "# 注意⏰ 该内容只作补充了解\n",
    "# 解读 df 的 md.pattern 数据\n",
    "# 分别表示了每个字段的缺失值模式，1 为该字段无缺失，0 为该字段有缺失值\n",
    "# 左边表示统计的数量，例如第一行是所有字段均没有缺失值的情况为 22，第二行是缺失 bonus 字段模式为 17 个以此类推。右边数据为选择的缺失模式\n",
    "md.pattern(df[1:3])"
   ]
  },
  {
   "cell_type": "markdown",
   "metadata": {},
   "source": [
    "异常值  异常值判断方法有多种选择，以统计学角度的标准偏差、箱型图检验法检验，或者其他方法进行判断\n",
    "* 标准偏差法 \n",
    "* 箱型图检测法 \n",
    "* 其他检测法 例如通过散点图确认点是否在“群”内进行判断"
   ]
  },
  {
   "cell_type": "code",
   "execution_count": 114,
   "metadata": {
    "scrolled": false
   },
   "outputs": [
    {
     "data": {
      "text/plain": [
       "                 Name         bonus          deferral_payments \n",
       " ALLEN PHILLIP K   :  1   Min.   :   70000   Min.   : -102500  \n",
       " BADUM JAMES P     :  1   1st Qu.:  431250   1st Qu.:   81573  \n",
       " BANNANTINE JAMES M:  1   Median :  769375   Median :  227449  \n",
       " BAXTER JOHN C     :  1   Mean   : 2374235   Mean   : 1642674  \n",
       " BAY FRANKLIN R    :  1   3rd Qu.: 1200000   3rd Qu.: 1002672  \n",
       " BAZELIDES PHILIP J:  1   Max.   :97343619   Max.   :32083396  \n",
       " (Other)           :140   NA's   :64         NA's   :107       \n",
       " exercised_stock_options    expenses       from_messages     \n",
       " Min.   :     3285       Min.   :    148   Min.   :   12.00  \n",
       " 1st Qu.:   527886       1st Qu.:  22614   1st Qu.:   22.75  \n",
       " Median :  1310814       Median :  46950   Median :   41.00  \n",
       " Mean   :  5987054       Mean   : 108729   Mean   :  608.79  \n",
       " 3rd Qu.:  2547724       3rd Qu.:  79952   3rd Qu.:  145.50  \n",
       " Max.   :311764000       Max.   :5235198   Max.   :14368.00  \n",
       " NA's   :44              NA's   :51        NA's   :60        \n",
       " from_poi_to_this_person from_this_person_to_poi long_term_incentive\n",
       " Min.   :  0.00          Min.   :  0.00          Min.   :   69223   \n",
       " 1st Qu.: 10.00          1st Qu.:  1.00          1st Qu.:  281250   \n",
       " Median : 35.00          Median :  8.00          Median :  442035   \n",
       " Mean   : 64.90          Mean   : 41.23          Mean   : 1470361   \n",
       " 3rd Qu.: 72.25          3rd Qu.: 24.75          3rd Qu.:  938672   \n",
       " Max.   :528.00          Max.   :609.00          Max.   :48521928   \n",
       " NA's   :60              NA's   :60              NA's   :80         \n",
       "     other             poi          restricted_stock        salary        \n",
       " Min.   :       2   Mode :logical   Min.   : -2604490   Min.   :     477  \n",
       " 1st Qu.:    1215   FALSE:128       1st Qu.:   254018   1st Qu.:  211816  \n",
       " Median :   52382   TRUE :18        Median :   451740   Median :  259996  \n",
       " Mean   :  919065                   Mean   :  2321741   Mean   :  562194  \n",
       " 3rd Qu.:  362096                   3rd Qu.:  1002370   3rd Qu.:  312117  \n",
       " Max.   :42667589                   Max.   :130322299   Max.   :26704229  \n",
       " NA's   :53                         NA's   :36          NA's   :51        \n",
       " shared_receipt_with_poi  to_messages      total_payments     \n",
       " Min.   :   2.0          Min.   :   57.0   Min.   :      148  \n",
       " 1st Qu.: 249.8          1st Qu.:  541.2   1st Qu.:   394475  \n",
       " Median : 740.5          Median : 1211.0   Median :  1101393  \n",
       " Mean   :1176.5          Mean   : 2073.9   Mean   :  5081526  \n",
       " 3rd Qu.:1888.2          3rd Qu.: 2634.8   3rd Qu.:  2093263  \n",
       " Max.   :5521.0          Max.   :15149.0   Max.   :309886585  \n",
       " NA's   :60              NA's   :60        NA's   :21         \n",
       " total_stock_value  \n",
       " Min.   :   -44093  \n",
       " 1st Qu.:   494510  \n",
       " Median :  1102872  \n",
       " Mean   :  6773957  \n",
       " 3rd Qu.:  2949847  \n",
       " Max.   :434509511  \n",
       " NA's   :20         "
      ]
     },
     "metadata": {},
     "output_type": "display_data"
    }
   ],
   "source": [
    "summary(df.enron)"
   ]
  },
  {
   "cell_type": "code",
   "execution_count": 110,
   "metadata": {},
   "outputs": [
    {
     "name": "stderr",
     "output_type": "stream",
     "text": [
      "\n",
      "Attaching package: 'tidyr'\n",
      "\n",
      "The following object is masked from 'package:mice':\n",
      "\n",
      "    complete\n",
      "\n"
     ]
    }
   ],
   "source": [
    "library(purrr)\n",
    "library(ggplot2)\n",
    "library(tidyr)\n",
    "library(dplyr)"
   ]
  },
  {
   "cell_type": "code",
   "execution_count": 117,
   "metadata": {},
   "outputs": [
    {
     "name": "stderr",
     "output_type": "stream",
     "text": [
      "`stat_bin()` using `bins = 30`. Pick better value with `binwidth`.\n",
      "Warning message:\n",
      "\"Removed 827 rows containing non-finite values (stat_bin).\""
     ]
    },
    {
     "data": {
      "image/png": "[encoded data removed]",
      "text/plain": [
       "plot without title"
      ]
     },
     "metadata": {},
     "output_type": "display_data"
    }
   ],
   "source": [
    "df.enron  %>% \n",
    "    keep(is.numeric)  %>% # 删选满足条件数据类型\n",
    "    gather()  %>% \n",
    "    ggplot(aes(value)) + \n",
    "    facet_wrap(~key, scales = \"free\") +\n",
    "    geom_histogram()"
   ]
  },
  {
   "cell_type": "markdown",
   "metadata": {},
   "source": [
    "通过以上图形，可以看出很多字段中存在异常值，例如 bonus、deferral_payments。对于异常值是否删除需要根据不同的情况来判断。而这里需要对一场数据进行探索，所以首先需要选出一场数据——可以使用 `boxplot()` 中的 `out` 数据"
   ]
  },
  {
   "cell_type": "code",
   "execution_count": 135,
   "metadata": {},
   "outputs": [
    {
     "data": {
      "image/png": "[encoded data removed]",
      "text/plain": [
       "plot without title"
      ]
     },
     "metadata": {},
     "output_type": "display_data"
    }
   ],
   "source": [
    "outlier <- boxplot(df.enron$deferral_payments)$out"
   ]
  },
  {
   "cell_type": "code",
   "execution_count": 136,
   "metadata": {},
   "outputs": [
    {
     "data": {
      "text/html": [
       "<table>\n",
       "<thead><tr><th></th><th scope=col>Name</th><th scope=col>bonus</th><th scope=col>deferral_payments</th><th scope=col>exercised_stock_options</th><th scope=col>expenses</th><th scope=col>from_messages</th><th scope=col>from_poi_to_this_person</th><th scope=col>from_this_person_to_poi</th><th scope=col>long_term_incentive</th><th scope=col>other</th><th scope=col>poi</th><th scope=col>restricted_stock</th><th scope=col>salary</th><th scope=col>shared_receipt_with_poi</th><th scope=col>to_messages</th><th scope=col>total_payments</th><th scope=col>total_stock_value</th></tr></thead>\n",
       "<tbody>\n",
       "\t<tr><th scope=row>1</th><td>ALLEN PHILLIP K </td><td> 4175000        </td><td> 2869717        </td><td>  1729541       </td><td>  13868         </td><td>2195            </td><td> 47             </td><td> 65             </td><td>  304805        </td><td>     152        </td><td>FALSE           </td><td>   126027       </td><td>  201955        </td><td>1407            </td><td>2902            </td><td>  4484442       </td><td>  1729541       </td></tr>\n",
       "\t<tr><th scope=row>48</th><td>FREVERT MARK A  </td><td> 2000000        </td><td> 6426990        </td><td> 10433518       </td><td>  86987         </td><td>  21            </td><td>242             </td><td>  6             </td><td> 1617011        </td><td> 7427621        </td><td>FALSE           </td><td>  4188667       </td><td> 1060932        </td><td>2979            </td><td>3275            </td><td> 17252530       </td><td> 14622185       </td></tr>\n",
       "\t<tr><th scope=row>67</th><td>HORTON STANLEY C</td><td>     NaN        </td><td> 3131860        </td><td>  5210569       </td><td>    NaN         </td><td>1073            </td><td> 44             </td><td> 15             </td><td>     NaN        </td><td>     NaN        </td><td>FALSE           </td><td>  2046079       </td><td>     NaN        </td><td>1074            </td><td>2350            </td><td>  3131860       </td><td>  7256648       </td></tr>\n",
       "\t<tr><th scope=row>69</th><td>HUMPHREY GENE E </td><td>     NaN        </td><td> 2964506        </td><td>  2282768       </td><td>   4994         </td><td>  17            </td><td> 10             </td><td> 17             </td><td>     NaN        </td><td>     NaN        </td><td>FALSE           </td><td>      NaN       </td><td>  130724        </td><td> 119            </td><td> 128            </td><td>  3100224       </td><td>  2282768       </td></tr>\n",
       "\t<tr><th scope=row>131</th><td>TOTAL           </td><td>97343619        </td><td>32083396        </td><td>311764000       </td><td>5235198         </td><td> NaN            </td><td>NaN             </td><td>NaN             </td><td>48521928        </td><td>42667589        </td><td>FALSE           </td><td>130322299       </td><td>26704229        </td><td> NaN            </td><td> NaN            </td><td>309886585       </td><td>434509511       </td></tr>\n",
       "</tbody>\n",
       "</table>\n"
      ],
      "text/latex": [
       "\\begin{tabular}{r|lllllllllllllllll}\n",
       "  & Name & bonus & deferral\\_payments & exercised\\_stock\\_options & expenses & from\\_messages & from\\_poi\\_to\\_this\\_person & from\\_this\\_person\\_to\\_poi & long\\_term\\_incentive & other & poi & restricted\\_stock & salary & shared\\_receipt\\_with\\_poi & to\\_messages & total\\_payments & total\\_stock\\_value\\\\\n",
       "\\hline\n",
       "\t1 & ALLEN PHILLIP K  &  4175000         &  2869717         &   1729541        &   13868          & 2195             &  47              &  65              &   304805         &      152         & FALSE            &    126027        &   201955         & 1407             & 2902             &   4484442        &   1729541       \\\\\n",
       "\t48 & FREVERT MARK A   &  2000000         &  6426990         &  10433518        &   86987          &   21             & 242              &   6              &  1617011         &  7427621         & FALSE            &   4188667        &  1060932         & 2979             & 3275             &  17252530        &  14622185       \\\\\n",
       "\t67 & HORTON STANLEY C &      NaN         &  3131860         &   5210569        &     NaN          & 1073             &  44              &  15              &      NaN         &      NaN         & FALSE            &   2046079        &      NaN         & 1074             & 2350             &   3131860        &   7256648       \\\\\n",
       "\t69 & HUMPHREY GENE E  &      NaN         &  2964506         &   2282768        &    4994          &   17             &  10              &  17              &      NaN         &      NaN         & FALSE            &       NaN        &   130724         &  119             &  128             &   3100224        &   2282768       \\\\\n",
       "\t131 & TOTAL            & 97343619         & 32083396         & 311764000        & 5235198          &  NaN             & NaN              & NaN              & 48521928         & 42667589         & FALSE            & 130322299        & 26704229         &  NaN             &  NaN             & 309886585        & 434509511       \\\\\n",
       "\\end{tabular}\n"
      ],
      "text/markdown": [
       "\n",
       "| <!--/--> | Name | bonus | deferral_payments | exercised_stock_options | expenses | from_messages | from_poi_to_this_person | from_this_person_to_poi | long_term_incentive | other | poi | restricted_stock | salary | shared_receipt_with_poi | to_messages | total_payments | total_stock_value |\n",
       "|---|---|---|---|---|---|---|---|---|---|---|---|---|---|---|---|---|---|\n",
       "| 1 | ALLEN PHILLIP K  |  4175000         |  2869717         |   1729541        |   13868          | 2195             |  47              |  65              |   304805         |      152         | FALSE            |    126027        |   201955         | 1407             | 2902             |   4484442        |   1729541        |\n",
       "| 48 | FREVERT MARK A   |  2000000         |  6426990         |  10433518        |   86987          |   21             | 242              |   6              |  1617011         |  7427621         | FALSE            |   4188667        |  1060932         | 2979             | 3275             |  17252530        |  14622185        |\n",
       "| 67 | HORTON STANLEY C |      NaN         |  3131860         |   5210569        |     NaN          | 1073             |  44              |  15              |      NaN         |      NaN         | FALSE            |   2046079        |      NaN         | 1074             | 2350             |   3131860        |   7256648        |\n",
       "| 69 | HUMPHREY GENE E  |      NaN         |  2964506         |   2282768        |    4994          |   17             |  10              |  17              |      NaN         |      NaN         | FALSE            |       NaN        |   130724         |  119             |  128             |   3100224        |   2282768        |\n",
       "| 131 | TOTAL            | 97343619         | 32083396         | 311764000        | 5235198          |  NaN             | NaN              | NaN              | 48521928         | 42667589         | FALSE            | 130322299        | 26704229         |  NaN             |  NaN             | 309886585        | 434509511        |\n",
       "\n"
      ],
      "text/plain": [
       "    Name             bonus    deferral_payments exercised_stock_options\n",
       "1   ALLEN PHILLIP K   4175000  2869717            1729541              \n",
       "48  FREVERT MARK A    2000000  6426990           10433518              \n",
       "67  HORTON STANLEY C      NaN  3131860            5210569              \n",
       "69  HUMPHREY GENE E       NaN  2964506            2282768              \n",
       "131 TOTAL            97343619 32083396          311764000              \n",
       "    expenses from_messages from_poi_to_this_person from_this_person_to_poi\n",
       "1     13868  2195           47                      65                    \n",
       "48    86987    21          242                       6                    \n",
       "67      NaN  1073           44                      15                    \n",
       "69     4994    17           10                      17                    \n",
       "131 5235198   NaN          NaN                     NaN                    \n",
       "    long_term_incentive other    poi   restricted_stock salary  \n",
       "1     304805                 152 FALSE    126027          201955\n",
       "48   1617011             7427621 FALSE   4188667         1060932\n",
       "67       NaN                 NaN FALSE   2046079             NaN\n",
       "69       NaN                 NaN FALSE       NaN          130724\n",
       "131 48521928            42667589 FALSE 130322299        26704229\n",
       "    shared_receipt_with_poi to_messages total_payments total_stock_value\n",
       "1   1407                    2902          4484442        1729541        \n",
       "48  2979                    3275         17252530       14622185        \n",
       "67  1074                    2350          3131860        7256648        \n",
       "69   119                     128          3100224        2282768        \n",
       "131  NaN                     NaN        309886585      434509511        "
      ]
     },
     "metadata": {},
     "output_type": "display_data"
    }
   ],
   "source": [
    "# 筛选出异常值\n",
    "df.enron[which(df.enron$deferral_payments %in% outlier),]"
   ]
  },
  {
   "cell_type": "markdown",
   "metadata": {},
   "source": [
    "#### 清理数据"
   ]
  },
  {
   "cell_type": "code",
   "execution_count": null,
   "metadata": {},
   "outputs": [],
   "source": []
  },
  {
   "cell_type": "code",
   "execution_count": null,
   "metadata": {},
   "outputs": [],
   "source": []
  },
  {
   "cell_type": "markdown",
   "metadata": {},
   "source": [
    "### 参考\n",
    "1. [Dealing with Missing Data using R](https://medium.com/coinmonks/dealing-with-missing-data-using-r-3ae428da2d17)\n",
    "2. [在R中填充缺失数据—mice包 - 雪晴数据网](http://www.xueqing.tv/cms/article/98)"
   ]
  }
 ],
 "metadata": {
  "kernelspec": {
   "display_name": "R",
   "language": "R",
   "name": "ir"
  },
  "language_info": {
   "codemirror_mode": "r",
   "file_extension": ".r",
   "mimetype": "text/x-r-source",
   "name": "R",
   "pygments_lexer": "r",
   "version": "3.4.3"
  },
  "latex_envs": {
   "LaTeX_envs_menu_present": true,
   "autoclose": false,
   "autocomplete": true,
   "bibliofile": "biblio.bib",
   "cite_by": "apalike",
   "current_citInitial": 1,
   "eqLabelWithNumbers": true,
   "eqNumInitial": 1,
   "hotkeys": {
    "equation": "Ctrl-E",
    "itemize": "Ctrl-I"
   },
   "labels_anchors": false,
   "latex_user_defs": false,
   "report_style_numbering": false,
   "user_envs_cfg": false
  },
  "toc": {
   "base_numbering": 1,
   "nav_menu": {},
   "number_sections": true,
   "sideBar": true,
   "skip_h1_title": false,
   "title_cell": "Table of Contents",
   "title_sidebar": "Contents",
   "toc_cell": false,
   "toc_position": {},
   "toc_section_display": true,
   "toc_window_display": true
  }
 },
 "nbformat": 4,
 "nbformat_minor": 2
}
