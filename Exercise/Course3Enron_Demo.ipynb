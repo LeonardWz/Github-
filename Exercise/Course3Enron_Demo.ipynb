{
 "cells": [
  {
   "cell_type": "markdown",
   "metadata": {},
   "source": [
    "## 安然数据\n",
    "首先确定目的是为了进行数据分析，因此需要从数据分析的过程去看看怎么样使用 R 来进行相关过程。本次将以安然的部分数据来进行分析，重点将以 EDA 的角度来进行：\n",
    "\n",
    "1. 读取数据\n",
    "2. 数据清理\n",
    "3. **探索分析**\n",
    "    * 单变量分析\n",
    "    * 双变量分析\n",
    "    * 多变量分析\n",
    "4. 建模"
   ]
  },
  {
   "cell_type": "code",
   "execution_count": 3,
   "metadata": {},
   "outputs": [
    {
     "name": "stderr",
     "output_type": "stream",
     "text": [
      "\n",
      "Attaching package: ‘dplyr’\n",
      "\n",
      "The following objects are masked from ‘package:stats’:\n",
      "\n",
      "    filter, lag\n",
      "\n",
      "The following objects are masked from ‘package:base’:\n",
      "\n",
      "    intersect, setdiff, setequal, union\n",
      "\n"
     ]
    }
   ],
   "source": [
    "library(ggplot2)\n",
    "library(dplyr)"
   ]
  },
  {
   "cell_type": "markdown",
   "metadata": {},
   "source": [
    "### 读取数据\n",
    "R 同样可以读取多种类型的数据文件，例如Excel、XML、SPSS、SAS 和 MATLAB，剪贴板，甚至是网络数据。常用的函数中需要注意，`read.csv()` 和 `read.csv2()` 的差异——后者默认是使用`;` 作为分隔符，`,` 作为千分位的 CSV 文件类型。对于其他异常数据作为缺失值，可以通过 `na.strings` 参数进行调整——`na.strings=c(\"NULL\", \"#N/A\", \"#DIV/0\")`。\n",
    "\n",
    "<font size=1 color=\"green\">补充信息：\n",
    "    <ol>\n",
    "        <li>如果需要保存相应的数据，那么可以使用 <code>write.table</code> 等函数</li>\n",
    "        <li>此外如果需要<b>交互</b>，可以使用 <code>readline()</code></li>\n",
    "        <li>下载数据，可以使用 <code>download.file()</code> 或者 <code>RCurl</code>包获取 HTML 或 XML 数据，而 <code>XML</code> 包中的相关函数可以进行页面解析\n",
    "    </ol>\n",
    "</font>"
   ]
  },
  {
   "cell_type": "code",
   "execution_count": 4,
   "metadata": {},
   "outputs": [],
   "source": [
    "df <- read.csv(\"./data/enron.csv\")"
   ]
  },
  {
   "cell_type": "markdown",
   "metadata": {},
   "source": [
    "### 清理数据\n",
    "通过相应的函数获取到了数据信息，那么接下来需要了解数据信息以确定接下来的数据清洗的相对应的工作。Python 中 Pandas 提供了很多方便的方式进行数据访问，同样地在 R 中可以使用一些简单的函数来完成相应的工作：\n",
    "\n",
    "1. 数据总体信息，`str()`\n",
    "2. 数据维度信息，`dim()`，此外还可以使用 `NROW()` 和 `NCOL()` 来对非"
   ]
  },
  {
   "cell_type": "code",
   "execution_count": 5,
   "metadata": {
    "scrolled": false
   },
   "outputs": [
    {
     "data": {
      "text/html": [
       "<table>\n",
       "<thead><tr><th scope=col>Name</th><th scope=col>bonus</th><th scope=col>deferral_payments</th><th scope=col>deferred_income</th><th scope=col>director_fees</th><th scope=col>email_address</th><th scope=col>exercised_stock_options</th><th scope=col>expenses</th><th scope=col>from_messages</th><th scope=col>from_poi_to_this_person</th><th scope=col>⋯</th><th scope=col>long_term_incentive</th><th scope=col>other</th><th scope=col>poi</th><th scope=col>restricted_stock</th><th scope=col>restricted_stock_deferred</th><th scope=col>salary</th><th scope=col>shared_receipt_with_poi</th><th scope=col>to_messages</th><th scope=col>total_payments</th><th scope=col>total_stock_value</th></tr></thead>\n",
       "<tbody>\n",
       "\t<tr><td>ALLEN PHILLIP K           </td><td>4175000                   </td><td>2869717                   </td><td>-3081055                  </td><td>NaN                       </td><td>phillip.allen@enron.com   </td><td>1729541                   </td><td> 13868                    </td><td>2195                      </td><td> 47                       </td><td>⋯                         </td><td> 304805                   </td><td>    152                   </td><td>FALSE                     </td><td> 126027                   </td><td>-126027                   </td><td>201955                    </td><td>1407                      </td><td>2902                      </td><td>4484442                   </td><td> 1729541                  </td></tr>\n",
       "\t<tr><td>BADUM JAMES P             </td><td>    NaN                   </td><td> 178980                   </td><td>     NaN                  </td><td>NaN                       </td><td>NaN                       </td><td> 257817                   </td><td>  3486                    </td><td> NaN                      </td><td>NaN                       </td><td>⋯                         </td><td>    NaN                   </td><td>    NaN                   </td><td>FALSE                     </td><td>    NaN                   </td><td>    NaN                   </td><td>   NaN                    </td><td> NaN                      </td><td> NaN                      </td><td> 182466                   </td><td>  257817                  </td></tr>\n",
       "\t<tr><td>BANNANTINE JAMES M        </td><td>    NaN                   </td><td>    NaN                   </td><td>   -5104                  </td><td>NaN                       </td><td>james.bannantine@enron.com</td><td>4046157                   </td><td> 56301                    </td><td>  29                      </td><td> 39                       </td><td>⋯                         </td><td>    NaN                   </td><td> 864523                   </td><td>FALSE                     </td><td>1757552                   </td><td>-560222                   </td><td>   477                    </td><td> 465                      </td><td> 566                      </td><td> 916197                   </td><td> 5243487                  </td></tr>\n",
       "\t<tr><td>BAXTER JOHN C             </td><td>1200000                   </td><td>1295738                   </td><td>-1386055                  </td><td>NaN                       </td><td>NaN                       </td><td>6680544                   </td><td> 11200                    </td><td> NaN                      </td><td>NaN                       </td><td>⋯                         </td><td>1586055                   </td><td>2660303                   </td><td>FALSE                     </td><td>3942714                   </td><td>    NaN                   </td><td>267102                    </td><td> NaN                      </td><td> NaN                      </td><td>5634343                   </td><td>10623258                  </td></tr>\n",
       "\t<tr><td>BAY FRANKLIN R            </td><td> 400000                   </td><td> 260455                   </td><td> -201641                  </td><td>NaN                       </td><td>frank.bay@enron.com       </td><td>    NaN                   </td><td>129142                    </td><td> NaN                      </td><td>NaN                       </td><td>⋯                         </td><td>    NaN                   </td><td>     69                   </td><td>FALSE                     </td><td> 145796                   </td><td> -82782                   </td><td>239671                    </td><td> NaN                      </td><td> NaN                      </td><td> 827696                   </td><td>   63014                  </td></tr>\n",
       "\t<tr><td>BAZELIDES PHILIP J        </td><td>    NaN                   </td><td> 684694                   </td><td>     NaN                  </td><td>NaN                       </td><td>NaN                       </td><td>1599641                   </td><td>   NaN                    </td><td> NaN                      </td><td>NaN                       </td><td>⋯                         </td><td>  93750                   </td><td>    874                   </td><td>FALSE                     </td><td>    NaN                   </td><td>    NaN                   </td><td> 80818                    </td><td> NaN                      </td><td> NaN                      </td><td> 860136                   </td><td> 1599641                  </td></tr>\n",
       "</tbody>\n",
       "</table>\n"
      ],
      "text/latex": [
       "\\begin{tabular}{r|llllllllllllllllllllll}\n",
       " Name & bonus & deferral\\_payments & deferred\\_income & director\\_fees & email\\_address & exercised\\_stock\\_options & expenses & from\\_messages & from\\_poi\\_to\\_this\\_person & ⋯ & long\\_term\\_incentive & other & poi & restricted\\_stock & restricted\\_stock\\_deferred & salary & shared\\_receipt\\_with\\_poi & to\\_messages & total\\_payments & total\\_stock\\_value\\\\\n",
       "\\hline\n",
       "\t ALLEN PHILLIP K            & 4175000                    & 2869717                    & -3081055                   & NaN                        & phillip.allen@enron.com    & 1729541                    &  13868                     & 2195                       &  47                        & ⋯                          &  304805                    &     152                    & FALSE                      &  126027                    & -126027                    & 201955                     & 1407                       & 2902                       & 4484442                    &  1729541                  \\\\\n",
       "\t BADUM JAMES P              &     NaN                    &  178980                    &      NaN                   & NaN                        & NaN                        &  257817                    &   3486                     &  NaN                       & NaN                        & ⋯                          &     NaN                    &     NaN                    & FALSE                      &     NaN                    &     NaN                    &    NaN                     &  NaN                       &  NaN                       &  182466                    &   257817                  \\\\\n",
       "\t BANNANTINE JAMES M         &     NaN                    &     NaN                    &    -5104                   & NaN                        & james.bannantine@enron.com & 4046157                    &  56301                     &   29                       &  39                        & ⋯                          &     NaN                    &  864523                    & FALSE                      & 1757552                    & -560222                    &    477                     &  465                       &  566                       &  916197                    &  5243487                  \\\\\n",
       "\t BAXTER JOHN C              & 1200000                    & 1295738                    & -1386055                   & NaN                        & NaN                        & 6680544                    &  11200                     &  NaN                       & NaN                        & ⋯                          & 1586055                    & 2660303                    & FALSE                      & 3942714                    &     NaN                    & 267102                     &  NaN                       &  NaN                       & 5634343                    & 10623258                  \\\\\n",
       "\t BAY FRANKLIN R             &  400000                    &  260455                    &  -201641                   & NaN                        & frank.bay@enron.com        &     NaN                    & 129142                     &  NaN                       & NaN                        & ⋯                          &     NaN                    &      69                    & FALSE                      &  145796                    &  -82782                    & 239671                     &  NaN                       &  NaN                       &  827696                    &    63014                  \\\\\n",
       "\t BAZELIDES PHILIP J         &     NaN                    &  684694                    &      NaN                   & NaN                        & NaN                        & 1599641                    &    NaN                     &  NaN                       & NaN                        & ⋯                          &   93750                    &     874                    & FALSE                      &     NaN                    &     NaN                    &  80818                     &  NaN                       &  NaN                       &  860136                    &  1599641                  \\\\\n",
       "\\end{tabular}\n"
      ],
      "text/markdown": [
       "\n",
       "Name | bonus | deferral_payments | deferred_income | director_fees | email_address | exercised_stock_options | expenses | from_messages | from_poi_to_this_person | ⋯ | long_term_incentive | other | poi | restricted_stock | restricted_stock_deferred | salary | shared_receipt_with_poi | to_messages | total_payments | total_stock_value | \n",
       "|---|---|---|---|---|---|\n",
       "| ALLEN PHILLIP K            | 4175000                    | 2869717                    | -3081055                   | NaN                        | phillip.allen@enron.com    | 1729541                    |  13868                     | 2195                       |  47                        | ⋯                          |  304805                    |     152                    | FALSE                      |  126027                    | -126027                    | 201955                     | 1407                       | 2902                       | 4484442                    |  1729541                   | \n",
       "| BADUM JAMES P              |     NaN                    |  178980                    |      NaN                   | NaN                        | NaN                        |  257817                    |   3486                     |  NaN                       | NaN                        | ⋯                          |     NaN                    |     NaN                    | FALSE                      |     NaN                    |     NaN                    |    NaN                     |  NaN                       |  NaN                       |  182466                    |   257817                   | \n",
       "| BANNANTINE JAMES M         |     NaN                    |     NaN                    |    -5104                   | NaN                        | james.bannantine@enron.com | 4046157                    |  56301                     |   29                       |  39                        | ⋯                          |     NaN                    |  864523                    | FALSE                      | 1757552                    | -560222                    |    477                     |  465                       |  566                       |  916197                    |  5243487                   | \n",
       "| BAXTER JOHN C              | 1200000                    | 1295738                    | -1386055                   | NaN                        | NaN                        | 6680544                    |  11200                     |  NaN                       | NaN                        | ⋯                          | 1586055                    | 2660303                    | FALSE                      | 3942714                    |     NaN                    | 267102                     |  NaN                       |  NaN                       | 5634343                    | 10623258                   | \n",
       "| BAY FRANKLIN R             |  400000                    |  260455                    |  -201641                   | NaN                        | frank.bay@enron.com        |     NaN                    | 129142                     |  NaN                       | NaN                        | ⋯                          |     NaN                    |      69                    | FALSE                      |  145796                    |  -82782                    | 239671                     |  NaN                       |  NaN                       |  827696                    |    63014                   | \n",
       "| BAZELIDES PHILIP J         |     NaN                    |  684694                    |      NaN                   | NaN                        | NaN                        | 1599641                    |    NaN                     |  NaN                       | NaN                        | ⋯                          |   93750                    |     874                    | FALSE                      |     NaN                    |     NaN                    |  80818                     |  NaN                       |  NaN                       |  860136                    |  1599641                   | \n",
       "\n",
       "\n"
      ],
      "text/plain": [
       "  Name               bonus   deferral_payments deferred_income director_fees\n",
       "1 ALLEN PHILLIP K    4175000 2869717           -3081055        NaN          \n",
       "2 BADUM JAMES P          NaN  178980                NaN        NaN          \n",
       "3 BANNANTINE JAMES M     NaN     NaN              -5104        NaN          \n",
       "4 BAXTER JOHN C      1200000 1295738           -1386055        NaN          \n",
       "5 BAY FRANKLIN R      400000  260455            -201641        NaN          \n",
       "6 BAZELIDES PHILIP J     NaN  684694                NaN        NaN          \n",
       "  email_address              exercised_stock_options expenses from_messages\n",
       "1 phillip.allen@enron.com    1729541                  13868   2195         \n",
       "2 NaN                         257817                   3486    NaN         \n",
       "3 james.bannantine@enron.com 4046157                  56301     29         \n",
       "4 NaN                        6680544                  11200    NaN         \n",
       "5 frank.bay@enron.com            NaN                 129142    NaN         \n",
       "6 NaN                        1599641                    NaN    NaN         \n",
       "  from_poi_to_this_person ⋯ long_term_incentive other   poi   restricted_stock\n",
       "1  47                     ⋯  304805                 152 FALSE  126027         \n",
       "2 NaN                     ⋯     NaN                 NaN FALSE     NaN         \n",
       "3  39                     ⋯     NaN              864523 FALSE 1757552         \n",
       "4 NaN                     ⋯ 1586055             2660303 FALSE 3942714         \n",
       "5 NaN                     ⋯     NaN                  69 FALSE  145796         \n",
       "6 NaN                     ⋯   93750                 874 FALSE     NaN         \n",
       "  restricted_stock_deferred salary shared_receipt_with_poi to_messages\n",
       "1 -126027                   201955 1407                    2902       \n",
       "2     NaN                      NaN  NaN                     NaN       \n",
       "3 -560222                      477  465                     566       \n",
       "4     NaN                   267102  NaN                     NaN       \n",
       "5  -82782                   239671  NaN                     NaN       \n",
       "6     NaN                    80818  NaN                     NaN       \n",
       "  total_payments total_stock_value\n",
       "1 4484442         1729541         \n",
       "2  182466          257817         \n",
       "3  916197         5243487         \n",
       "4 5634343        10623258         \n",
       "5  827696           63014         \n",
       "6  860136         1599641         "
      ]
     },
     "metadata": {},
     "output_type": "display_data"
    }
   ],
   "source": [
    "head(df)"
   ]
  },
  {
   "cell_type": "code",
   "execution_count": 23,
   "metadata": {},
   "outputs": [
    {
     "ename": "ERROR",
     "evalue": "Error in scan(file, what = \"\", sep = sep, quote = quote, nlines = 1, quiet = TRUE, : 'sep' 值不正確: 大小只能為一個位元組\n",
     "output_type": "error",
     "traceback": [
      "Error in scan(file, what = \"\", sep = sep, quote = quote, nlines = 1, quiet = TRUE, : 'sep' 值不正確: 大小只能為一個位元組\nTraceback:\n",
      "1. read.table(pipe(\"pbpaste\"), sep = \"::\")",
      "2. scan(file, what = \"\", sep = sep, quote = quote, nlines = 1, quiet = TRUE, \n .     skip = 0, strip.white = TRUE, blank.lines.skip = blank.lines.skip, \n .     comment.char = comment.char, allowEscapes = allowEscapes, \n .     encoding = encoding, skipNul = skipNul)"
     ]
    }
   ],
   "source": [
    "read.table(pipe(\"pbpaste\"), sep=\"::\")"
   ]
  },
  {
   "cell_type": "code",
   "execution_count": 30,
   "metadata": {},
   "outputs": [
    {
     "ename": "ERROR",
     "evalue": "Error in scan(\"./data/R_Paste.docx\"): scan() 需要 'a real'，而不是 'PK\u0003\u0004\u0014'\n",
     "output_type": "error",
     "traceback": [
      "Error in scan(\"./data/R_Paste.docx\"): scan() 需要 'a real'，而不是 'PK\u0003\u0004\u0014'\nTraceback:\n",
      "1. scan(\"./data/R_Paste.docx\")"
     ]
    }
   ],
   "source": [
    "scan(\"./data/R_Paste.docx\")"
   ]
  }
 ],
 "metadata": {
  "kernelspec": {
   "display_name": "R",
   "language": "R",
   "name": "ir"
  },
  "language_info": {
   "codemirror_mode": "r",
   "file_extension": ".r",
   "mimetype": "text/x-r-source",
   "name": "R",
   "pygments_lexer": "r",
   "version": "3.4.2"
  },
  "latex_envs": {
   "LaTeX_envs_menu_present": true,
   "autoclose": false,
   "autocomplete": true,
   "bibliofile": "biblio.bib",
   "cite_by": "apalike",
   "current_citInitial": 1,
   "eqLabelWithNumbers": true,
   "eqNumInitial": 1,
   "hotkeys": {
    "equation": "Ctrl-E",
    "itemize": "Ctrl-I"
   },
   "labels_anchors": false,
   "latex_user_defs": false,
   "report_style_numbering": false,
   "user_envs_cfg": false
  },
  "toc": {
   "base_numbering": 1,
   "nav_menu": {},
   "number_sections": true,
   "sideBar": true,
   "skip_h1_title": false,
   "title_cell": "Table of Contents",
   "title_sidebar": "Contents",
   "toc_cell": false,
   "toc_position": {},
   "toc_section_display": true,
   "toc_window_display": true
  }
 },
 "nbformat": 4,
 "nbformat_minor": 2
}
